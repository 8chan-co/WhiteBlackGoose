{
 "cells": [
  {
   "cell_type": "markdown",
   "metadata": {},
   "source": [
    "# 20 Random Stocks Investment Strategy\n",
    "\n",
    "## Abstract\n",
    "\n",
    "When we passively long-term invest, we prefer using well-established ETFs. However there might be circumstances when one might want to avoid using ETFs for some reason, however, still can purchase individual stocks.\n",
    "\n",
    "Here I want to show that we do not have reproduce index of the world market to emulate its growth. It is actually enough to pick 20 *random* companies and invest the same amount of money into each of them, so that the risk of underperforming is less than 4% over a 8-year period. By underperforming we mean underperforming the inflation.\n",
    "\n",
    "## Plan\n",
    "\n",
    "- Get data\n",
    "  - Get the last report about current companies traded at Nasdaq and their capitalizations\n",
    "  - Get the historical data about stock prices for the given companies\n",
    "- Filter companies\n",
    "  - Accept only the last 20 years, 2002-2022\n",
    "  - Accept only companies with IPO year < 2000\n",
    "- Build Nasdaq index\n",
    "  - Given the current market caps and the change of prices, compute the market share by the time of investment\n",
    "- Analyze the data\n",
    "  - Take three investment periods: 0.5, 3, 8 years\n",
    "  - Take four strategies\n",
    "    - Nasdaq Index - amount of shares proportionate to market cap for all companies\n",
    "    - Uniform distribution - the same amount of money into each available company\n",
    "    - Uniform partial distribution 20 - the same amount of money itno each of **20 random** companies\n",
    "    - Uniform partial distribution 5 - the same amount of money into each of **5 random** companies\n",
    "  - Move this window over the last 20 years\n",
    "  - For each window's position and for each strategy\n",
    "    - \"Invest\" $ 1000 into stocks in the beginning of this window\n",
    "    - Fix the profits by the end, measure how much it increased\n",
    "    - The result is a number ∈ [0; +inf) which is the increase of the value of our portfolio over the selected period of time\n",
    "  - Pool all these numbers so that we have 12 sets: a set of numbers for each period for each strategy\n",
    "    - To compute the annual growth we\n",
    "      - Exclude 1/3 of outliers\n",
    "      - Compute the *geometric mean* of these numbers\n",
    "    - To compute the underperformance risk we\n",
    "      - Assume inflation = **1.03**\n",
    "      - Compute the share of annual increases which are *lower* than the inflation. This share is that risk\n",
    "\n",
    "## Results\n",
    "\n",
    "| Strategy    | Rel. 1/2 year | Rel. 3 years | Rel. 8 years | Growth  |\n",
    "|:-----------:|:---------|:--------|:--------|:---------|\n",
    "| Nq 400      | .668     | .789    | .958    | .10-.13  |\n",
    "| U 400       | .692     | .837    | 1.0     | .10-.14  |\n",
    "| UP 20       | .679     | .799    | .965    | .10-.13  |\n",
    "| UP 5        | .617     | .716    | .826    | .09-.13  |\n",
    "\n",
    "- *Reliability (rel.)* - the probability that the given strategy will result in portfolio worth less in given number of years than it was with the inflation adjusted.\n",
    "- *Nq 400* - the Nasdaq index over 400 shares\n",
    "- *U 400* - uniform investing into 400 shares\n",
    "- *U 20* - uniform investing into 20 shares\n",
    "- *U 5* - uniform investing into 5 shares\n",
    "\n",
    "## Problems\n",
    "\n",
    "1. We did not take into account companies which went bankrupt. For both index and uniform investing.\n",
    "2. There is no balancing in the index, and new IPO companies are not taken into the account\n",
    "3. Only the last 20 years are analyzed\n",
    "\n",
    "## Conclusion\n",
    "\n",
    "It *seems* like 20 random stocks strategy may work in real world, and its risks are comparable to the risks of index ETFs. However, I cannot conclude this confidently given all the problems with the research."
   ]
  },
  {
   "cell_type": "code",
   "execution_count": 4,
   "metadata": {},
   "outputs": [],
   "source": [
    "import pandas as pd\n",
    "import yfinance as yf"
   ]
  },
  {
   "cell_type": "markdown",
   "metadata": {},
   "source": [
    "Install [yfinance](https://github.com/ranaroussi/yfinance)"
   ]
  },
  {
   "cell_type": "code",
   "execution_count": null,
   "metadata": {},
   "outputs": [],
   "source": [
    "# !pip install yfinance --upgrade"
   ]
  },
  {
   "cell_type": "markdown",
   "metadata": {},
   "source": [
    "Link to the ticker list: http://www.nasdaq.com/screening/companies-by-name.aspx?letter=0&exchange=nasdaq&render=download"
   ]
  },
  {
   "cell_type": "code",
   "execution_count": 5,
   "metadata": {},
   "outputs": [
    {
     "data": {
      "text/html": [
       "<div>\n",
       "<style scoped>\n",
       "    .dataframe tbody tr th:only-of-type {\n",
       "        vertical-align: middle;\n",
       "    }\n",
       "\n",
       "    .dataframe tbody tr th {\n",
       "        vertical-align: top;\n",
       "    }\n",
       "\n",
       "    .dataframe thead th {\n",
       "        text-align: right;\n",
       "    }\n",
       "</style>\n",
       "<table border=\"1\" class=\"dataframe\">\n",
       "  <thead>\n",
       "    <tr style=\"text-align: right;\">\n",
       "      <th></th>\n",
       "      <th>Symbol</th>\n",
       "      <th>Name</th>\n",
       "      <th>Last Sale</th>\n",
       "      <th>Net Change</th>\n",
       "      <th>% Change</th>\n",
       "      <th>Market Cap</th>\n",
       "      <th>Country</th>\n",
       "      <th>IPO Year</th>\n",
       "      <th>Volume</th>\n",
       "      <th>Sector</th>\n",
       "      <th>Industry</th>\n",
       "    </tr>\n",
       "  </thead>\n",
       "  <tbody>\n",
       "    <tr>\n",
       "      <th>0</th>\n",
       "      <td>A</td>\n",
       "      <td>Agilent Technologies Inc. Common Stock</td>\n",
       "      <td>$123.045</td>\n",
       "      <td>2.7450</td>\n",
       "      <td>2.282%</td>\n",
       "      <td>3.692745e+10</td>\n",
       "      <td>United States</td>\n",
       "      <td>1999.0</td>\n",
       "      <td>1475402</td>\n",
       "      <td>Capital Goods</td>\n",
       "      <td>Electrical Products</td>\n",
       "    </tr>\n",
       "    <tr>\n",
       "      <th>1</th>\n",
       "      <td>AA</td>\n",
       "      <td>Alcoa Corporation Common Stock</td>\n",
       "      <td>$63.68</td>\n",
       "      <td>3.4000</td>\n",
       "      <td>5.64%</td>\n",
       "      <td>1.174569e+10</td>\n",
       "      <td>NaN</td>\n",
       "      <td>2016.0</td>\n",
       "      <td>4906918</td>\n",
       "      <td>Basic Industries</td>\n",
       "      <td>Metal Fabrications</td>\n",
       "    </tr>\n",
       "    <tr>\n",
       "      <th>2</th>\n",
       "      <td>AAC</td>\n",
       "      <td>Ares Acquisition Corporation Class A Ordinary ...</td>\n",
       "      <td>$9.80</td>\n",
       "      <td>0.0100</td>\n",
       "      <td>0.102%</td>\n",
       "      <td>1.225000e+09</td>\n",
       "      <td>NaN</td>\n",
       "      <td>2021.0</td>\n",
       "      <td>123113</td>\n",
       "      <td>Finance</td>\n",
       "      <td>Business Services</td>\n",
       "    </tr>\n",
       "    <tr>\n",
       "      <th>3</th>\n",
       "      <td>AACG</td>\n",
       "      <td>ATA Creativity Global American Depositary Shares</td>\n",
       "      <td>$1.09</td>\n",
       "      <td>0.0800</td>\n",
       "      <td>7.921%</td>\n",
       "      <td>3.444246e+07</td>\n",
       "      <td>China</td>\n",
       "      <td>NaN</td>\n",
       "      <td>9454</td>\n",
       "      <td>Miscellaneous</td>\n",
       "      <td>Service to the Health Industry</td>\n",
       "    </tr>\n",
       "    <tr>\n",
       "      <th>4</th>\n",
       "      <td>AACI</td>\n",
       "      <td>Armada Acquisition Corp. I Common Stock</td>\n",
       "      <td>$9.84</td>\n",
       "      <td>0.0000</td>\n",
       "      <td>0.00%</td>\n",
       "      <td>2.037815e+08</td>\n",
       "      <td>United States</td>\n",
       "      <td>2021.0</td>\n",
       "      <td>758</td>\n",
       "      <td>Finance</td>\n",
       "      <td>Diversified Financial Service</td>\n",
       "    </tr>\n",
       "    <tr>\n",
       "      <th>...</th>\n",
       "      <td>...</td>\n",
       "      <td>...</td>\n",
       "      <td>...</td>\n",
       "      <td>...</td>\n",
       "      <td>...</td>\n",
       "      <td>...</td>\n",
       "      <td>...</td>\n",
       "      <td>...</td>\n",
       "      <td>...</td>\n",
       "      <td>...</td>\n",
       "      <td>...</td>\n",
       "    </tr>\n",
       "    <tr>\n",
       "      <th>8380</th>\n",
       "      <td>ZWS</td>\n",
       "      <td>Zurn Water Solutions Corporation Common Stock</td>\n",
       "      <td>$28.065</td>\n",
       "      <td>0.5050</td>\n",
       "      <td>1.832%</td>\n",
       "      <td>3.535279e+09</td>\n",
       "      <td>United States</td>\n",
       "      <td>2012.0</td>\n",
       "      <td>584857</td>\n",
       "      <td>Public Utilities</td>\n",
       "      <td>Environmental Services</td>\n",
       "    </tr>\n",
       "    <tr>\n",
       "      <th>8381</th>\n",
       "      <td>ZY</td>\n",
       "      <td>Zymergen Inc. Common Stock</td>\n",
       "      <td>$1.42</td>\n",
       "      <td>-0.0800</td>\n",
       "      <td>-5.333%</td>\n",
       "      <td>1.464351e+08</td>\n",
       "      <td>United States</td>\n",
       "      <td>2021.0</td>\n",
       "      <td>1346483</td>\n",
       "      <td>Basic Industries</td>\n",
       "      <td>Industrial Specialties</td>\n",
       "    </tr>\n",
       "    <tr>\n",
       "      <th>8382</th>\n",
       "      <td>ZYME</td>\n",
       "      <td>Zymeworks Inc. Common Shares</td>\n",
       "      <td>$5.915</td>\n",
       "      <td>0.5750</td>\n",
       "      <td>10.768%</td>\n",
       "      <td>3.417167e+08</td>\n",
       "      <td>Canada</td>\n",
       "      <td>2017.0</td>\n",
       "      <td>1785364</td>\n",
       "      <td>NaN</td>\n",
       "      <td>NaN</td>\n",
       "    </tr>\n",
       "    <tr>\n",
       "      <th>8383</th>\n",
       "      <td>ZYNE</td>\n",
       "      <td>Zynerba Pharmaceuticals Inc. Common Stock</td>\n",
       "      <td>$1.0209</td>\n",
       "      <td>0.0909</td>\n",
       "      <td>9.774%</td>\n",
       "      <td>4.453314e+07</td>\n",
       "      <td>United States</td>\n",
       "      <td>2015.0</td>\n",
       "      <td>341906</td>\n",
       "      <td>Health Care</td>\n",
       "      <td>Biotechnology: Pharmaceutical Preparations</td>\n",
       "    </tr>\n",
       "    <tr>\n",
       "      <th>8384</th>\n",
       "      <td>ZYXI</td>\n",
       "      <td>Zynex Inc. Common Stock</td>\n",
       "      <td>$7.375</td>\n",
       "      <td>0.4650</td>\n",
       "      <td>6.729%</td>\n",
       "      <td>2.879650e+08</td>\n",
       "      <td>United States</td>\n",
       "      <td>NaN</td>\n",
       "      <td>254997</td>\n",
       "      <td>Health Care</td>\n",
       "      <td>Other Pharmaceuticals</td>\n",
       "    </tr>\n",
       "  </tbody>\n",
       "</table>\n",
       "<p>8385 rows × 11 columns</p>\n",
       "</div>"
      ],
      "text/plain": [
       "     Symbol                                               Name Last Sale  \\\n",
       "0         A             Agilent Technologies Inc. Common Stock  $123.045   \n",
       "1        AA                    Alcoa Corporation Common Stock     $63.68   \n",
       "2       AAC  Ares Acquisition Corporation Class A Ordinary ...     $9.80   \n",
       "3      AACG   ATA Creativity Global American Depositary Shares     $1.09   \n",
       "4      AACI            Armada Acquisition Corp. I Common Stock     $9.84   \n",
       "...     ...                                                ...       ...   \n",
       "8380    ZWS      Zurn Water Solutions Corporation Common Stock   $28.065   \n",
       "8381     ZY                         Zymergen Inc. Common Stock     $1.42   \n",
       "8382   ZYME                       Zymeworks Inc. Common Shares    $5.915   \n",
       "8383   ZYNE          Zynerba Pharmaceuticals Inc. Common Stock   $1.0209   \n",
       "8384   ZYXI                            Zynex Inc. Common Stock    $7.375   \n",
       "\n",
       "      Net Change % Change    Market Cap        Country  IPO Year   Volume  \\\n",
       "0         2.7450   2.282%  3.692745e+10  United States    1999.0  1475402   \n",
       "1         3.4000    5.64%  1.174569e+10            NaN    2016.0  4906918   \n",
       "2         0.0100   0.102%  1.225000e+09            NaN    2021.0   123113   \n",
       "3         0.0800   7.921%  3.444246e+07          China       NaN     9454   \n",
       "4         0.0000    0.00%  2.037815e+08  United States    2021.0      758   \n",
       "...          ...      ...           ...            ...       ...      ...   \n",
       "8380      0.5050   1.832%  3.535279e+09  United States    2012.0   584857   \n",
       "8381     -0.0800  -5.333%  1.464351e+08  United States    2021.0  1346483   \n",
       "8382      0.5750  10.768%  3.417167e+08         Canada    2017.0  1785364   \n",
       "8383      0.0909   9.774%  4.453314e+07  United States    2015.0   341906   \n",
       "8384      0.4650   6.729%  2.879650e+08  United States       NaN   254997   \n",
       "\n",
       "                Sector                                    Industry  \n",
       "0        Capital Goods                         Electrical Products  \n",
       "1     Basic Industries                          Metal Fabrications  \n",
       "2              Finance                           Business Services  \n",
       "3        Miscellaneous              Service to the Health Industry  \n",
       "4              Finance               Diversified Financial Service  \n",
       "...                ...                                         ...  \n",
       "8380  Public Utilities                      Environmental Services  \n",
       "8381  Basic Industries                      Industrial Specialties  \n",
       "8382               NaN                                         NaN  \n",
       "8383       Health Care  Biotechnology: Pharmaceutical Preparations  \n",
       "8384       Health Care                       Other Pharmaceuticals  \n",
       "\n",
       "[8385 rows x 11 columns]"
      ]
     },
     "execution_count": 5,
     "metadata": {},
     "output_type": "execute_result"
    }
   ],
   "source": [
    "ticker_info = pd.read_csv(\"../nasdaq_screener_1652817332355.csv\", sep=\",\")\n",
    "ticker_info"
   ]
  },
  {
   "cell_type": "code",
   "execution_count": 413,
   "metadata": {},
   "outputs": [
    {
     "data": {
      "text/html": [
       "<div>\n",
       "<style scoped>\n",
       "    .dataframe tbody tr th:only-of-type {\n",
       "        vertical-align: middle;\n",
       "    }\n",
       "\n",
       "    .dataframe tbody tr th {\n",
       "        vertical-align: top;\n",
       "    }\n",
       "\n",
       "    .dataframe thead th {\n",
       "        text-align: right;\n",
       "    }\n",
       "</style>\n",
       "<table border=\"1\" class=\"dataframe\">\n",
       "  <thead>\n",
       "    <tr style=\"text-align: right;\">\n",
       "      <th></th>\n",
       "      <th>Symbol</th>\n",
       "      <th>Name</th>\n",
       "      <th>Last Sale</th>\n",
       "      <th>Net Change</th>\n",
       "      <th>% Change</th>\n",
       "      <th>Market Cap</th>\n",
       "      <th>Country</th>\n",
       "      <th>IPO Year</th>\n",
       "      <th>Volume</th>\n",
       "      <th>Sector</th>\n",
       "      <th>Industry</th>\n",
       "    </tr>\n",
       "  </thead>\n",
       "  <tbody>\n",
       "    <tr>\n",
       "      <th>0</th>\n",
       "      <td>A</td>\n",
       "      <td>Agilent Technologies Inc. Common Stock</td>\n",
       "      <td>$123.045</td>\n",
       "      <td>2.7450</td>\n",
       "      <td>2.282%</td>\n",
       "      <td>3.692745e+10</td>\n",
       "      <td>United States</td>\n",
       "      <td>1999.0</td>\n",
       "      <td>1475402</td>\n",
       "      <td>Capital Goods</td>\n",
       "      <td>Electrical Products</td>\n",
       "    </tr>\n",
       "    <tr>\n",
       "      <th>20</th>\n",
       "      <td>AAPL</td>\n",
       "      <td>Apple Inc. Common Stock</td>\n",
       "      <td>$149.3408</td>\n",
       "      <td>3.8008</td>\n",
       "      <td>2.612%</td>\n",
       "      <td>2.589172e+12</td>\n",
       "      <td>United States</td>\n",
       "      <td>1980.0</td>\n",
       "      <td>61494093</td>\n",
       "      <td>Technology</td>\n",
       "      <td>Computer Manufacturing</td>\n",
       "    </tr>\n",
       "    <tr>\n",
       "      <th>30</th>\n",
       "      <td>ABCB</td>\n",
       "      <td>Ameris Bancorp Common Stock</td>\n",
       "      <td>$44.33</td>\n",
       "      <td>1.8800</td>\n",
       "      <td>4.429%</td>\n",
       "      <td>3.078088e+09</td>\n",
       "      <td>United States</td>\n",
       "      <td>1994.0</td>\n",
       "      <td>157730</td>\n",
       "      <td>Finance</td>\n",
       "      <td>Major Banks</td>\n",
       "    </tr>\n",
       "    <tr>\n",
       "      <th>117</th>\n",
       "      <td>ACU</td>\n",
       "      <td>Acme United Corporation. Common Stock</td>\n",
       "      <td>$33.21</td>\n",
       "      <td>0.7100</td>\n",
       "      <td>2.185%</td>\n",
       "      <td>1.169207e+08</td>\n",
       "      <td>United States</td>\n",
       "      <td>1988.0</td>\n",
       "      <td>4082</td>\n",
       "      <td>Consumer Durables</td>\n",
       "      <td>Home Furnishings</td>\n",
       "    </tr>\n",
       "    <tr>\n",
       "      <th>126</th>\n",
       "      <td>ADBE</td>\n",
       "      <td>Adobe Inc. Common Stock</td>\n",
       "      <td>$410.54</td>\n",
       "      <td>7.6800</td>\n",
       "      <td>1.906%</td>\n",
       "      <td>1.939802e+11</td>\n",
       "      <td>United States</td>\n",
       "      <td>1986.0</td>\n",
       "      <td>1854033</td>\n",
       "      <td>Technology</td>\n",
       "      <td>Computer Software: Prepackaged Software</td>\n",
       "    </tr>\n",
       "    <tr>\n",
       "      <th>...</th>\n",
       "      <td>...</td>\n",
       "      <td>...</td>\n",
       "      <td>...</td>\n",
       "      <td>...</td>\n",
       "      <td>...</td>\n",
       "      <td>...</td>\n",
       "      <td>...</td>\n",
       "      <td>...</td>\n",
       "      <td>...</td>\n",
       "      <td>...</td>\n",
       "      <td>...</td>\n",
       "    </tr>\n",
       "    <tr>\n",
       "      <th>8315</th>\n",
       "      <td>YPF</td>\n",
       "      <td>YPF Sociedad Anonima Common Stock</td>\n",
       "      <td>$4.475</td>\n",
       "      <td>0.0550</td>\n",
       "      <td>1.244%</td>\n",
       "      <td>1.760075e+09</td>\n",
       "      <td>Argentina</td>\n",
       "      <td>1993.0</td>\n",
       "      <td>1191749</td>\n",
       "      <td>Energy</td>\n",
       "      <td>Integrated oil Companies</td>\n",
       "    </tr>\n",
       "    <tr>\n",
       "      <th>8328</th>\n",
       "      <td>ZBRA</td>\n",
       "      <td>Zebra Technologies Corporation Class A Common ...</td>\n",
       "      <td>$346.62</td>\n",
       "      <td>17.2900</td>\n",
       "      <td>5.25%</td>\n",
       "      <td>1.820234e+10</td>\n",
       "      <td>United States</td>\n",
       "      <td>1991.0</td>\n",
       "      <td>284197</td>\n",
       "      <td>Technology</td>\n",
       "      <td>Computer peripheral equipment</td>\n",
       "    </tr>\n",
       "    <tr>\n",
       "      <th>8338</th>\n",
       "      <td>ZEUS</td>\n",
       "      <td>Olympic Steel Inc. Common Stock</td>\n",
       "      <td>$33.485</td>\n",
       "      <td>1.6150</td>\n",
       "      <td>5.067%</td>\n",
       "      <td>3.726101e+08</td>\n",
       "      <td>United States</td>\n",
       "      <td>1994.0</td>\n",
       "      <td>47725</td>\n",
       "      <td>Basic Industries</td>\n",
       "      <td>Steel/Iron Ore</td>\n",
       "    </tr>\n",
       "    <tr>\n",
       "      <th>8361</th>\n",
       "      <td>ZNH</td>\n",
       "      <td>China Southern Airlines Company Limited Common...</td>\n",
       "      <td>$25.50</td>\n",
       "      <td>0.5000</td>\n",
       "      <td>2.00%</td>\n",
       "      <td>8.643708e+09</td>\n",
       "      <td>China</td>\n",
       "      <td>1997.0</td>\n",
       "      <td>23008</td>\n",
       "      <td>Transportation</td>\n",
       "      <td>Air Freight/Delivery Services</td>\n",
       "    </tr>\n",
       "    <tr>\n",
       "      <th>8371</th>\n",
       "      <td>ZTR</td>\n",
       "      <td>Virtus Total Return Fund Inc.</td>\n",
       "      <td>$8.84</td>\n",
       "      <td>0.1500</td>\n",
       "      <td>1.726%</td>\n",
       "      <td>2.180176e+08</td>\n",
       "      <td>United States</td>\n",
       "      <td>1988.0</td>\n",
       "      <td>41697</td>\n",
       "      <td>Finance</td>\n",
       "      <td>Investment Managers</td>\n",
       "    </tr>\n",
       "  </tbody>\n",
       "</table>\n",
       "<p>480 rows × 11 columns</p>\n",
       "</div>"
      ],
      "text/plain": [
       "     Symbol                                               Name  Last Sale  \\\n",
       "0         A             Agilent Technologies Inc. Common Stock   $123.045   \n",
       "20     AAPL                            Apple Inc. Common Stock  $149.3408   \n",
       "30     ABCB                        Ameris Bancorp Common Stock     $44.33   \n",
       "117     ACU              Acme United Corporation. Common Stock     $33.21   \n",
       "126    ADBE                            Adobe Inc. Common Stock    $410.54   \n",
       "...     ...                                                ...        ...   \n",
       "8315    YPF                  YPF Sociedad Anonima Common Stock     $4.475   \n",
       "8328   ZBRA  Zebra Technologies Corporation Class A Common ...    $346.62   \n",
       "8338   ZEUS                    Olympic Steel Inc. Common Stock    $33.485   \n",
       "8361    ZNH  China Southern Airlines Company Limited Common...     $25.50   \n",
       "8371    ZTR                      Virtus Total Return Fund Inc.      $8.84   \n",
       "\n",
       "      Net Change % Change    Market Cap        Country  IPO Year    Volume  \\\n",
       "0         2.7450   2.282%  3.692745e+10  United States    1999.0   1475402   \n",
       "20        3.8008   2.612%  2.589172e+12  United States    1980.0  61494093   \n",
       "30        1.8800   4.429%  3.078088e+09  United States    1994.0    157730   \n",
       "117       0.7100   2.185%  1.169207e+08  United States    1988.0      4082   \n",
       "126       7.6800   1.906%  1.939802e+11  United States    1986.0   1854033   \n",
       "...          ...      ...           ...            ...       ...       ...   \n",
       "8315      0.0550   1.244%  1.760075e+09      Argentina    1993.0   1191749   \n",
       "8328     17.2900    5.25%  1.820234e+10  United States    1991.0    284197   \n",
       "8338      1.6150   5.067%  3.726101e+08  United States    1994.0     47725   \n",
       "8361      0.5000    2.00%  8.643708e+09          China    1997.0     23008   \n",
       "8371      0.1500   1.726%  2.180176e+08  United States    1988.0     41697   \n",
       "\n",
       "                 Sector                                 Industry  \n",
       "0         Capital Goods                      Electrical Products  \n",
       "20           Technology                   Computer Manufacturing  \n",
       "30              Finance                              Major Banks  \n",
       "117   Consumer Durables                         Home Furnishings  \n",
       "126          Technology  Computer Software: Prepackaged Software  \n",
       "...                 ...                                      ...  \n",
       "8315             Energy                 Integrated oil Companies  \n",
       "8328         Technology            Computer peripheral equipment  \n",
       "8338   Basic Industries                           Steel/Iron Ore  \n",
       "8361     Transportation            Air Freight/Delivery Services  \n",
       "8371            Finance                      Investment Managers  \n",
       "\n",
       "[480 rows x 11 columns]"
      ]
     },
     "execution_count": 413,
     "metadata": {},
     "output_type": "execute_result"
    }
   ],
   "source": [
    "old_companies = ticker_info[ticker_info[\"IPO Year\"] < 2000]\n",
    "old_companies"
   ]
  },
  {
   "cell_type": "code",
   "execution_count": 414,
   "metadata": {},
   "outputs": [],
   "source": [
    "tickers_as_one = \" \".join(filter(lambda x: \"^\" not in x, old_companies[\"Symbol\"]))"
   ]
  },
  {
   "cell_type": "code",
   "execution_count": 415,
   "metadata": {},
   "outputs": [
    {
     "data": {
      "text/plain": [
       "'A AAPL ABCB ACU ADBE ADTN AEHR AEIS AHPI AIV AKAM ALKS ALOT AMAT AMGN AMKR AMSC AMWD AMZN ANSS ARLP '"
      ]
     },
     "execution_count": 415,
     "metadata": {},
     "output_type": "execute_result"
    }
   ],
   "source": [
    "tickers_as_one[:100]"
   ]
  },
  {
   "cell_type": "code",
   "execution_count": 416,
   "metadata": {},
   "outputs": [
    {
     "name": "stdout",
     "output_type": "stream",
     "text": [
      "[*********************100%***********************]  480 of 480 completed\n"
     ]
    }
   ],
   "source": [
    "all_nasdaq_2000 = yf.download(tickers_as_one, period=\"max\")\n",
    "# all_nasdaq = pd.read_csv(\"../all_history_all_nasdaq.csv\", )"
   ]
  },
  {
   "cell_type": "code",
   "execution_count": 418,
   "metadata": {},
   "outputs": [
    {
     "data": {
      "text/html": [
       "<div>\n",
       "<style scoped>\n",
       "    .dataframe tbody tr th:only-of-type {\n",
       "        vertical-align: middle;\n",
       "    }\n",
       "\n",
       "    .dataframe tbody tr th {\n",
       "        vertical-align: top;\n",
       "    }\n",
       "\n",
       "    .dataframe thead tr th {\n",
       "        text-align: left;\n",
       "    }\n",
       "\n",
       "    .dataframe thead tr:last-of-type th {\n",
       "        text-align: right;\n",
       "    }\n",
       "</style>\n",
       "<table border=\"1\" class=\"dataframe\">\n",
       "  <thead>\n",
       "    <tr>\n",
       "      <th></th>\n",
       "      <th colspan=\"10\" halign=\"left\">Adj Close</th>\n",
       "      <th>...</th>\n",
       "      <th colspan=\"10\" halign=\"left\">Volume</th>\n",
       "    </tr>\n",
       "    <tr>\n",
       "      <th></th>\n",
       "      <th>A</th>\n",
       "      <th>AAPL</th>\n",
       "      <th>ABCB</th>\n",
       "      <th>ACU</th>\n",
       "      <th>ADBE</th>\n",
       "      <th>ADTN</th>\n",
       "      <th>AEHR</th>\n",
       "      <th>AEIS</th>\n",
       "      <th>AHPI</th>\n",
       "      <th>AIV</th>\n",
       "      <th>...</th>\n",
       "      <th>WNC</th>\n",
       "      <th>WRLD</th>\n",
       "      <th>WTS</th>\n",
       "      <th>XOMA</th>\n",
       "      <th>XRAY</th>\n",
       "      <th>YPF</th>\n",
       "      <th>ZBRA</th>\n",
       "      <th>ZEUS</th>\n",
       "      <th>ZNH</th>\n",
       "      <th>ZTR</th>\n",
       "    </tr>\n",
       "    <tr>\n",
       "      <th>Date</th>\n",
       "      <th></th>\n",
       "      <th></th>\n",
       "      <th></th>\n",
       "      <th></th>\n",
       "      <th></th>\n",
       "      <th></th>\n",
       "      <th></th>\n",
       "      <th></th>\n",
       "      <th></th>\n",
       "      <th></th>\n",
       "      <th></th>\n",
       "      <th></th>\n",
       "      <th></th>\n",
       "      <th></th>\n",
       "      <th></th>\n",
       "      <th></th>\n",
       "      <th></th>\n",
       "      <th></th>\n",
       "      <th></th>\n",
       "      <th></th>\n",
       "      <th></th>\n",
       "    </tr>\n",
       "  </thead>\n",
       "  <tbody>\n",
       "    <tr>\n",
       "      <th>1973-02-21</th>\n",
       "      <td>NaN</td>\n",
       "      <td>NaN</td>\n",
       "      <td>NaN</td>\n",
       "      <td>NaN</td>\n",
       "      <td>NaN</td>\n",
       "      <td>NaN</td>\n",
       "      <td>NaN</td>\n",
       "      <td>NaN</td>\n",
       "      <td>NaN</td>\n",
       "      <td>NaN</td>\n",
       "      <td>...</td>\n",
       "      <td>NaN</td>\n",
       "      <td>NaN</td>\n",
       "      <td>NaN</td>\n",
       "      <td>NaN</td>\n",
       "      <td>NaN</td>\n",
       "      <td>NaN</td>\n",
       "      <td>NaN</td>\n",
       "      <td>NaN</td>\n",
       "      <td>NaN</td>\n",
       "      <td>NaN</td>\n",
       "    </tr>\n",
       "    <tr>\n",
       "      <th>1973-02-22</th>\n",
       "      <td>NaN</td>\n",
       "      <td>NaN</td>\n",
       "      <td>NaN</td>\n",
       "      <td>NaN</td>\n",
       "      <td>NaN</td>\n",
       "      <td>NaN</td>\n",
       "      <td>NaN</td>\n",
       "      <td>NaN</td>\n",
       "      <td>NaN</td>\n",
       "      <td>NaN</td>\n",
       "      <td>...</td>\n",
       "      <td>NaN</td>\n",
       "      <td>NaN</td>\n",
       "      <td>NaN</td>\n",
       "      <td>NaN</td>\n",
       "      <td>NaN</td>\n",
       "      <td>NaN</td>\n",
       "      <td>NaN</td>\n",
       "      <td>NaN</td>\n",
       "      <td>NaN</td>\n",
       "      <td>NaN</td>\n",
       "    </tr>\n",
       "    <tr>\n",
       "      <th>1973-02-23</th>\n",
       "      <td>NaN</td>\n",
       "      <td>NaN</td>\n",
       "      <td>NaN</td>\n",
       "      <td>NaN</td>\n",
       "      <td>NaN</td>\n",
       "      <td>NaN</td>\n",
       "      <td>NaN</td>\n",
       "      <td>NaN</td>\n",
       "      <td>NaN</td>\n",
       "      <td>NaN</td>\n",
       "      <td>...</td>\n",
       "      <td>NaN</td>\n",
       "      <td>NaN</td>\n",
       "      <td>NaN</td>\n",
       "      <td>NaN</td>\n",
       "      <td>NaN</td>\n",
       "      <td>NaN</td>\n",
       "      <td>NaN</td>\n",
       "      <td>NaN</td>\n",
       "      <td>NaN</td>\n",
       "      <td>NaN</td>\n",
       "    </tr>\n",
       "    <tr>\n",
       "      <th>1973-02-26</th>\n",
       "      <td>NaN</td>\n",
       "      <td>NaN</td>\n",
       "      <td>NaN</td>\n",
       "      <td>NaN</td>\n",
       "      <td>NaN</td>\n",
       "      <td>NaN</td>\n",
       "      <td>NaN</td>\n",
       "      <td>NaN</td>\n",
       "      <td>NaN</td>\n",
       "      <td>NaN</td>\n",
       "      <td>...</td>\n",
       "      <td>NaN</td>\n",
       "      <td>NaN</td>\n",
       "      <td>NaN</td>\n",
       "      <td>NaN</td>\n",
       "      <td>NaN</td>\n",
       "      <td>NaN</td>\n",
       "      <td>NaN</td>\n",
       "      <td>NaN</td>\n",
       "      <td>NaN</td>\n",
       "      <td>NaN</td>\n",
       "    </tr>\n",
       "    <tr>\n",
       "      <th>1973-02-27</th>\n",
       "      <td>NaN</td>\n",
       "      <td>NaN</td>\n",
       "      <td>NaN</td>\n",
       "      <td>NaN</td>\n",
       "      <td>NaN</td>\n",
       "      <td>NaN</td>\n",
       "      <td>NaN</td>\n",
       "      <td>NaN</td>\n",
       "      <td>NaN</td>\n",
       "      <td>NaN</td>\n",
       "      <td>...</td>\n",
       "      <td>NaN</td>\n",
       "      <td>NaN</td>\n",
       "      <td>NaN</td>\n",
       "      <td>NaN</td>\n",
       "      <td>NaN</td>\n",
       "      <td>NaN</td>\n",
       "      <td>NaN</td>\n",
       "      <td>NaN</td>\n",
       "      <td>NaN</td>\n",
       "      <td>NaN</td>\n",
       "    </tr>\n",
       "    <tr>\n",
       "      <th>...</th>\n",
       "      <td>...</td>\n",
       "      <td>...</td>\n",
       "      <td>...</td>\n",
       "      <td>...</td>\n",
       "      <td>...</td>\n",
       "      <td>...</td>\n",
       "      <td>...</td>\n",
       "      <td>...</td>\n",
       "      <td>...</td>\n",
       "      <td>...</td>\n",
       "      <td>...</td>\n",
       "      <td>...</td>\n",
       "      <td>...</td>\n",
       "      <td>...</td>\n",
       "      <td>...</td>\n",
       "      <td>...</td>\n",
       "      <td>...</td>\n",
       "      <td>...</td>\n",
       "      <td>...</td>\n",
       "      <td>...</td>\n",
       "      <td>...</td>\n",
       "    </tr>\n",
       "    <tr>\n",
       "      <th>2022-05-12</th>\n",
       "      <td>116.129997</td>\n",
       "      <td>142.559998</td>\n",
       "      <td>42.500000</td>\n",
       "      <td>31.799999</td>\n",
       "      <td>388.489990</td>\n",
       "      <td>17.250000</td>\n",
       "      <td>7.42</td>\n",
       "      <td>75.910004</td>\n",
       "      <td>1.89</td>\n",
       "      <td>5.61</td>\n",
       "      <td>...</td>\n",
       "      <td>311000.0</td>\n",
       "      <td>44300.0</td>\n",
       "      <td>162800.0</td>\n",
       "      <td>36300.0</td>\n",
       "      <td>4186200.0</td>\n",
       "      <td>2035400.0</td>\n",
       "      <td>1076600.0</td>\n",
       "      <td>82200.0</td>\n",
       "      <td>30500.0</td>\n",
       "      <td>67700.0</td>\n",
       "    </tr>\n",
       "    <tr>\n",
       "      <th>2022-05-13</th>\n",
       "      <td>119.379997</td>\n",
       "      <td>147.110001</td>\n",
       "      <td>42.779999</td>\n",
       "      <td>32.410000</td>\n",
       "      <td>405.450012</td>\n",
       "      <td>17.580000</td>\n",
       "      <td>8.03</td>\n",
       "      <td>79.519997</td>\n",
       "      <td>1.91</td>\n",
       "      <td>5.82</td>\n",
       "      <td>...</td>\n",
       "      <td>392500.0</td>\n",
       "      <td>34400.0</td>\n",
       "      <td>129700.0</td>\n",
       "      <td>61000.0</td>\n",
       "      <td>2041500.0</td>\n",
       "      <td>1491100.0</td>\n",
       "      <td>627700.0</td>\n",
       "      <td>66300.0</td>\n",
       "      <td>22600.0</td>\n",
       "      <td>60400.0</td>\n",
       "    </tr>\n",
       "    <tr>\n",
       "      <th>2022-05-16</th>\n",
       "      <td>120.300003</td>\n",
       "      <td>145.539993</td>\n",
       "      <td>42.450001</td>\n",
       "      <td>32.500000</td>\n",
       "      <td>402.859985</td>\n",
       "      <td>17.270000</td>\n",
       "      <td>7.78</td>\n",
       "      <td>77.379997</td>\n",
       "      <td>1.73</td>\n",
       "      <td>5.83</td>\n",
       "      <td>...</td>\n",
       "      <td>193000.0</td>\n",
       "      <td>46200.0</td>\n",
       "      <td>103900.0</td>\n",
       "      <td>43700.0</td>\n",
       "      <td>1826700.0</td>\n",
       "      <td>2631700.0</td>\n",
       "      <td>394900.0</td>\n",
       "      <td>70500.0</td>\n",
       "      <td>18400.0</td>\n",
       "      <td>72400.0</td>\n",
       "    </tr>\n",
       "    <tr>\n",
       "      <th>2022-05-17</th>\n",
       "      <td>123.080002</td>\n",
       "      <td>149.240005</td>\n",
       "      <td>44.330002</td>\n",
       "      <td>32.509998</td>\n",
       "      <td>409.649994</td>\n",
       "      <td>18.480000</td>\n",
       "      <td>8.40</td>\n",
       "      <td>80.879997</td>\n",
       "      <td>1.86</td>\n",
       "      <td>6.13</td>\n",
       "      <td>...</td>\n",
       "      <td>412700.0</td>\n",
       "      <td>37200.0</td>\n",
       "      <td>123700.0</td>\n",
       "      <td>39800.0</td>\n",
       "      <td>1592800.0</td>\n",
       "      <td>1405100.0</td>\n",
       "      <td>456500.0</td>\n",
       "      <td>74600.0</td>\n",
       "      <td>26900.0</td>\n",
       "      <td>43700.0</td>\n",
       "    </tr>\n",
       "    <tr>\n",
       "      <th>2022-05-18</th>\n",
       "      <td>121.010002</td>\n",
       "      <td>141.559998</td>\n",
       "      <td>42.650002</td>\n",
       "      <td>32.779999</td>\n",
       "      <td>398.260010</td>\n",
       "      <td>17.790001</td>\n",
       "      <td>8.03</td>\n",
       "      <td>77.980003</td>\n",
       "      <td>1.87</td>\n",
       "      <td>6.03</td>\n",
       "      <td>...</td>\n",
       "      <td>222443.0</td>\n",
       "      <td>24010.0</td>\n",
       "      <td>65184.0</td>\n",
       "      <td>32318.0</td>\n",
       "      <td>760620.0</td>\n",
       "      <td>860619.0</td>\n",
       "      <td>274698.0</td>\n",
       "      <td>133969.0</td>\n",
       "      <td>5808.0</td>\n",
       "      <td>49206.0</td>\n",
       "    </tr>\n",
       "  </tbody>\n",
       "</table>\n",
       "<p>12427 rows × 2880 columns</p>\n",
       "</div>"
      ],
      "text/plain": [
       "             Adj Close                                                \\\n",
       "                     A        AAPL       ABCB        ACU        ADBE   \n",
       "Date                                                                   \n",
       "1973-02-21         NaN         NaN        NaN        NaN         NaN   \n",
       "1973-02-22         NaN         NaN        NaN        NaN         NaN   \n",
       "1973-02-23         NaN         NaN        NaN        NaN         NaN   \n",
       "1973-02-26         NaN         NaN        NaN        NaN         NaN   \n",
       "1973-02-27         NaN         NaN        NaN        NaN         NaN   \n",
       "...                ...         ...        ...        ...         ...   \n",
       "2022-05-12  116.129997  142.559998  42.500000  31.799999  388.489990   \n",
       "2022-05-13  119.379997  147.110001  42.779999  32.410000  405.450012   \n",
       "2022-05-16  120.300003  145.539993  42.450001  32.500000  402.859985   \n",
       "2022-05-17  123.080002  149.240005  44.330002  32.509998  409.649994   \n",
       "2022-05-18  121.010002  141.559998  42.650002  32.779999  398.260010   \n",
       "\n",
       "                                                    ...    Volume           \\\n",
       "                 ADTN  AEHR       AEIS  AHPI   AIV  ...       WNC     WRLD   \n",
       "Date                                                ...                      \n",
       "1973-02-21        NaN   NaN        NaN   NaN   NaN  ...       NaN      NaN   \n",
       "1973-02-22        NaN   NaN        NaN   NaN   NaN  ...       NaN      NaN   \n",
       "1973-02-23        NaN   NaN        NaN   NaN   NaN  ...       NaN      NaN   \n",
       "1973-02-26        NaN   NaN        NaN   NaN   NaN  ...       NaN      NaN   \n",
       "1973-02-27        NaN   NaN        NaN   NaN   NaN  ...       NaN      NaN   \n",
       "...               ...   ...        ...   ...   ...  ...       ...      ...   \n",
       "2022-05-12  17.250000  7.42  75.910004  1.89  5.61  ...  311000.0  44300.0   \n",
       "2022-05-13  17.580000  8.03  79.519997  1.91  5.82  ...  392500.0  34400.0   \n",
       "2022-05-16  17.270000  7.78  77.379997  1.73  5.83  ...  193000.0  46200.0   \n",
       "2022-05-17  18.480000  8.40  80.879997  1.86  6.13  ...  412700.0  37200.0   \n",
       "2022-05-18  17.790001  8.03  77.980003  1.87  6.03  ...  222443.0  24010.0   \n",
       "\n",
       "                                                                          \\\n",
       "                 WTS     XOMA       XRAY        YPF       ZBRA      ZEUS   \n",
       "Date                                                                       \n",
       "1973-02-21       NaN      NaN        NaN        NaN        NaN       NaN   \n",
       "1973-02-22       NaN      NaN        NaN        NaN        NaN       NaN   \n",
       "1973-02-23       NaN      NaN        NaN        NaN        NaN       NaN   \n",
       "1973-02-26       NaN      NaN        NaN        NaN        NaN       NaN   \n",
       "1973-02-27       NaN      NaN        NaN        NaN        NaN       NaN   \n",
       "...              ...      ...        ...        ...        ...       ...   \n",
       "2022-05-12  162800.0  36300.0  4186200.0  2035400.0  1076600.0   82200.0   \n",
       "2022-05-13  129700.0  61000.0  2041500.0  1491100.0   627700.0   66300.0   \n",
       "2022-05-16  103900.0  43700.0  1826700.0  2631700.0   394900.0   70500.0   \n",
       "2022-05-17  123700.0  39800.0  1592800.0  1405100.0   456500.0   74600.0   \n",
       "2022-05-18   65184.0  32318.0   760620.0   860619.0   274698.0  133969.0   \n",
       "\n",
       "                              \n",
       "                ZNH      ZTR  \n",
       "Date                          \n",
       "1973-02-21      NaN      NaN  \n",
       "1973-02-22      NaN      NaN  \n",
       "1973-02-23      NaN      NaN  \n",
       "1973-02-26      NaN      NaN  \n",
       "1973-02-27      NaN      NaN  \n",
       "...             ...      ...  \n",
       "2022-05-12  30500.0  67700.0  \n",
       "2022-05-13  22600.0  60400.0  \n",
       "2022-05-16  18400.0  72400.0  \n",
       "2022-05-17  26900.0  43700.0  \n",
       "2022-05-18   5808.0  49206.0  \n",
       "\n",
       "[12427 rows x 2880 columns]"
      ]
     },
     "execution_count": 418,
     "metadata": {},
     "output_type": "execute_result"
    }
   ],
   "source": [
    "all_nasdaq_2000.to_csv(\"../all_history_2000IPO_caps_nasdaq.csv\")\n",
    "all_nasdaq_2000"
   ]
  },
  {
   "cell_type": "code",
   "execution_count": 37,
   "metadata": {},
   "outputs": [],
   "source": [
    "# all_nasdaq.to_csv(\"../all_history_all_nasdaq.csv\")"
   ]
  },
  {
   "cell_type": "code",
   "execution_count": 39,
   "metadata": {},
   "outputs": [
    {
     "data": {
      "text/html": [
       "<div>\n",
       "<style scoped>\n",
       "    .dataframe tbody tr th:only-of-type {\n",
       "        vertical-align: middle;\n",
       "    }\n",
       "\n",
       "    .dataframe tbody tr th {\n",
       "        vertical-align: top;\n",
       "    }\n",
       "\n",
       "    .dataframe thead th {\n",
       "        text-align: right;\n",
       "    }\n",
       "</style>\n",
       "<table border=\"1\" class=\"dataframe\">\n",
       "  <thead>\n",
       "    <tr style=\"text-align: right;\">\n",
       "      <th></th>\n",
       "      <th>Symbol</th>\n",
       "      <th>Name</th>\n",
       "      <th>Last Sale</th>\n",
       "      <th>Net Change</th>\n",
       "      <th>% Change</th>\n",
       "      <th>Market Cap</th>\n",
       "      <th>Country</th>\n",
       "      <th>IPO Year</th>\n",
       "      <th>Volume</th>\n",
       "      <th>Sector</th>\n",
       "      <th>Industry</th>\n",
       "    </tr>\n",
       "  </thead>\n",
       "  <tbody>\n",
       "    <tr>\n",
       "      <th>0</th>\n",
       "      <td>A</td>\n",
       "      <td>Agilent Technologies Inc. Common Stock</td>\n",
       "      <td>$123.045</td>\n",
       "      <td>2.745</td>\n",
       "      <td>2.282%</td>\n",
       "      <td>3.692745e+10</td>\n",
       "      <td>United States</td>\n",
       "      <td>1999.0</td>\n",
       "      <td>1475402</td>\n",
       "      <td>Capital Goods</td>\n",
       "      <td>Electrical Products</td>\n",
       "    </tr>\n",
       "    <tr>\n",
       "      <th>1</th>\n",
       "      <td>AA</td>\n",
       "      <td>Alcoa Corporation Common Stock</td>\n",
       "      <td>$63.68</td>\n",
       "      <td>3.400</td>\n",
       "      <td>5.64%</td>\n",
       "      <td>1.174569e+10</td>\n",
       "      <td>NaN</td>\n",
       "      <td>2016.0</td>\n",
       "      <td>4906918</td>\n",
       "      <td>Basic Industries</td>\n",
       "      <td>Metal Fabrications</td>\n",
       "    </tr>\n",
       "    <tr>\n",
       "      <th>2</th>\n",
       "      <td>AAC</td>\n",
       "      <td>Ares Acquisition Corporation Class A Ordinary ...</td>\n",
       "      <td>$9.80</td>\n",
       "      <td>0.010</td>\n",
       "      <td>0.102%</td>\n",
       "      <td>1.225000e+09</td>\n",
       "      <td>NaN</td>\n",
       "      <td>2021.0</td>\n",
       "      <td>123113</td>\n",
       "      <td>Finance</td>\n",
       "      <td>Business Services</td>\n",
       "    </tr>\n",
       "    <tr>\n",
       "      <th>3</th>\n",
       "      <td>AACG</td>\n",
       "      <td>ATA Creativity Global American Depositary Shares</td>\n",
       "      <td>$1.09</td>\n",
       "      <td>0.080</td>\n",
       "      <td>7.921%</td>\n",
       "      <td>3.444246e+07</td>\n",
       "      <td>China</td>\n",
       "      <td>NaN</td>\n",
       "      <td>9454</td>\n",
       "      <td>Miscellaneous</td>\n",
       "      <td>Service to the Health Industry</td>\n",
       "    </tr>\n",
       "    <tr>\n",
       "      <th>4</th>\n",
       "      <td>AACI</td>\n",
       "      <td>Armada Acquisition Corp. I Common Stock</td>\n",
       "      <td>$9.84</td>\n",
       "      <td>0.000</td>\n",
       "      <td>0.00%</td>\n",
       "      <td>2.037815e+08</td>\n",
       "      <td>United States</td>\n",
       "      <td>2021.0</td>\n",
       "      <td>758</td>\n",
       "      <td>Finance</td>\n",
       "      <td>Diversified Financial Service</td>\n",
       "    </tr>\n",
       "  </tbody>\n",
       "</table>\n",
       "</div>"
      ],
      "text/plain": [
       "  Symbol                                               Name Last Sale  \\\n",
       "0      A             Agilent Technologies Inc. Common Stock  $123.045   \n",
       "1     AA                    Alcoa Corporation Common Stock     $63.68   \n",
       "2    AAC  Ares Acquisition Corporation Class A Ordinary ...     $9.80   \n",
       "3   AACG   ATA Creativity Global American Depositary Shares     $1.09   \n",
       "4   AACI            Armada Acquisition Corp. I Common Stock     $9.84   \n",
       "\n",
       "   Net Change % Change    Market Cap        Country  IPO Year   Volume  \\\n",
       "0       2.745   2.282%  3.692745e+10  United States    1999.0  1475402   \n",
       "1       3.400    5.64%  1.174569e+10            NaN    2016.0  4906918   \n",
       "2       0.010   0.102%  1.225000e+09            NaN    2021.0   123113   \n",
       "3       0.080   7.921%  3.444246e+07          China       NaN     9454   \n",
       "4       0.000    0.00%  2.037815e+08  United States    2021.0      758   \n",
       "\n",
       "             Sector                        Industry  \n",
       "0     Capital Goods             Electrical Products  \n",
       "1  Basic Industries              Metal Fabrications  \n",
       "2           Finance               Business Services  \n",
       "3     Miscellaneous  Service to the Health Industry  \n",
       "4           Finance   Diversified Financial Service  "
      ]
     },
     "execution_count": 39,
     "metadata": {},
     "output_type": "execute_result"
    }
   ],
   "source": [
    "ticker_info[0:5]"
   ]
  },
  {
   "cell_type": "code",
   "execution_count": 461,
   "metadata": {},
   "outputs": [],
   "source": [
    "companies_to_drop_2010 = [ \"CVT\", \"LAND\", \"ATAI\", \"MDH\", \"THRX\", \"LJPC\" ]\n",
    "companies_to_drop_2000 = companies_to_drop_2010 + [\"CLM\", \"CSII\", \"CTIB\", \"CTIC\"]"
   ]
  },
  {
   "cell_type": "code",
   "execution_count": 462,
   "metadata": {},
   "outputs": [
    {
     "data": {
      "text/html": [
       "<div>\n",
       "<style scoped>\n",
       "    .dataframe tbody tr th:only-of-type {\n",
       "        vertical-align: middle;\n",
       "    }\n",
       "\n",
       "    .dataframe tbody tr th {\n",
       "        vertical-align: top;\n",
       "    }\n",
       "\n",
       "    .dataframe thead th {\n",
       "        text-align: right;\n",
       "    }\n",
       "</style>\n",
       "<table border=\"1\" class=\"dataframe\">\n",
       "  <thead>\n",
       "    <tr style=\"text-align: right;\">\n",
       "      <th></th>\n",
       "      <th>Symbol</th>\n",
       "      <th>Name</th>\n",
       "      <th>Last Sale</th>\n",
       "      <th>Net Change</th>\n",
       "      <th>% Change</th>\n",
       "      <th>Market Cap</th>\n",
       "      <th>Country</th>\n",
       "      <th>IPO Year</th>\n",
       "      <th>Volume</th>\n",
       "      <th>Sector</th>\n",
       "      <th>Industry</th>\n",
       "    </tr>\n",
       "  </thead>\n",
       "  <tbody>\n",
       "    <tr>\n",
       "      <th>20</th>\n",
       "      <td>AAPL</td>\n",
       "      <td>Apple Inc. Common Stock</td>\n",
       "      <td>$149.3408</td>\n",
       "      <td>3.8008</td>\n",
       "      <td>2.612%</td>\n",
       "      <td>2.589172e+12</td>\n",
       "      <td>United States</td>\n",
       "      <td>1980.0</td>\n",
       "      <td>61494093</td>\n",
       "      <td>Technology</td>\n",
       "      <td>Computer Manufacturing</td>\n",
       "    </tr>\n",
       "    <tr>\n",
       "      <th>5070</th>\n",
       "      <td>MSFT</td>\n",
       "      <td>Microsoft Corporation Common Stock</td>\n",
       "      <td>$266.37</td>\n",
       "      <td>4.8700</td>\n",
       "      <td>1.862%</td>\n",
       "      <td>1.992190e+12</td>\n",
       "      <td>United States</td>\n",
       "      <td>1986.0</td>\n",
       "      <td>21699478</td>\n",
       "      <td>Technology</td>\n",
       "      <td>Computer Software: Prepackaged Software</td>\n",
       "    </tr>\n",
       "    <tr>\n",
       "      <th>469</th>\n",
       "      <td>AMZN</td>\n",
       "      <td>Amazon.com Inc. Common Stock</td>\n",
       "      <td>$2301.35</td>\n",
       "      <td>85.1400</td>\n",
       "      <td>3.842%</td>\n",
       "      <td>1.170744e+12</td>\n",
       "      <td>United States</td>\n",
       "      <td>1997.0</td>\n",
       "      <td>3180182</td>\n",
       "      <td>Consumer Services</td>\n",
       "      <td>Catalog/Specialty Distribution</td>\n",
       "    </tr>\n",
       "    <tr>\n",
       "      <th>7622</th>\n",
       "      <td>TSM</td>\n",
       "      <td>Taiwan Semiconductor Manufacturing Company Ltd.</td>\n",
       "      <td>$93.3825</td>\n",
       "      <td>2.9725</td>\n",
       "      <td>3.288%</td>\n",
       "      <td>4.842628e+11</td>\n",
       "      <td>Taiwan</td>\n",
       "      <td>1997.0</td>\n",
       "      <td>5526460</td>\n",
       "      <td>Technology</td>\n",
       "      <td>Semiconductors</td>\n",
       "    </tr>\n",
       "    <tr>\n",
       "      <th>5480</th>\n",
       "      <td>NVDA</td>\n",
       "      <td>NVIDIA Corporation Common Stock</td>\n",
       "      <td>$181.84</td>\n",
       "      <td>9.2000</td>\n",
       "      <td>5.329%</td>\n",
       "      <td>4.553300e+11</td>\n",
       "      <td>United States</td>\n",
       "      <td>1999.0</td>\n",
       "      <td>51524176</td>\n",
       "      <td>Technology</td>\n",
       "      <td>Semiconductors</td>\n",
       "    </tr>\n",
       "    <tr>\n",
       "      <th>...</th>\n",
       "      <td>...</td>\n",
       "      <td>...</td>\n",
       "      <td>...</td>\n",
       "      <td>...</td>\n",
       "      <td>...</td>\n",
       "      <td>...</td>\n",
       "      <td>...</td>\n",
       "      <td>...</td>\n",
       "      <td>...</td>\n",
       "      <td>...</td>\n",
       "      <td>...</td>\n",
       "    </tr>\n",
       "    <tr>\n",
       "      <th>3951</th>\n",
       "      <td>IMH</td>\n",
       "      <td>Impac Mortgage Holdings Inc. Common Stock</td>\n",
       "      <td>$0.70</td>\n",
       "      <td>0.0000</td>\n",
       "      <td>0.00%</td>\n",
       "      <td>1.501862e+07</td>\n",
       "      <td>United States</td>\n",
       "      <td>1997.0</td>\n",
       "      <td>19760</td>\n",
       "      <td>Finance</td>\n",
       "      <td>Finance: Consumer Services</td>\n",
       "    </tr>\n",
       "    <tr>\n",
       "      <th>4092</th>\n",
       "      <td>ISIG</td>\n",
       "      <td>Insignia Systems Inc. Common Stock</td>\n",
       "      <td>$7.3567</td>\n",
       "      <td>0.1167</td>\n",
       "      <td>1.612%</td>\n",
       "      <td>1.314124e+07</td>\n",
       "      <td>United States</td>\n",
       "      <td>1991.0</td>\n",
       "      <td>9672</td>\n",
       "      <td>Technology</td>\n",
       "      <td>Advertising</td>\n",
       "    </tr>\n",
       "    <tr>\n",
       "      <th>4909</th>\n",
       "      <td>MIND</td>\n",
       "      <td>MIND Technology Inc. Common Stock (DE)</td>\n",
       "      <td>$0.9402</td>\n",
       "      <td>0.0171</td>\n",
       "      <td>1.852%</td>\n",
       "      <td>1.295041e+07</td>\n",
       "      <td>United States</td>\n",
       "      <td>1994.0</td>\n",
       "      <td>17151</td>\n",
       "      <td>Capital Goods</td>\n",
       "      <td>Industrial Machinery/Components</td>\n",
       "    </tr>\n",
       "    <tr>\n",
       "      <th>1717</th>\n",
       "      <td>CLWT</td>\n",
       "      <td>Euro Tech Holdings Company Limited Common Stock</td>\n",
       "      <td>$1.5301</td>\n",
       "      <td>0.0101</td>\n",
       "      <td>0.664%</td>\n",
       "      <td>1.183094e+07</td>\n",
       "      <td>Hong Kong</td>\n",
       "      <td>1997.0</td>\n",
       "      <td>2687</td>\n",
       "      <td>Consumer Durables</td>\n",
       "      <td>Diversified Electronic Products</td>\n",
       "    </tr>\n",
       "    <tr>\n",
       "      <th>278</th>\n",
       "      <td>AHPI</td>\n",
       "      <td>Allied Healthcare Products Inc. Common Stock</td>\n",
       "      <td>$1.8801</td>\n",
       "      <td>0.1501</td>\n",
       "      <td>8.676%</td>\n",
       "      <td>7.545851e+06</td>\n",
       "      <td>United States</td>\n",
       "      <td>1992.0</td>\n",
       "      <td>119119</td>\n",
       "      <td>Health Care</td>\n",
       "      <td>Industrial Specialties</td>\n",
       "    </tr>\n",
       "  </tbody>\n",
       "</table>\n",
       "<p>473 rows × 11 columns</p>\n",
       "</div>"
      ],
      "text/plain": [
       "     Symbol                                             Name  Last Sale  \\\n",
       "20     AAPL                          Apple Inc. Common Stock  $149.3408   \n",
       "5070   MSFT               Microsoft Corporation Common Stock    $266.37   \n",
       "469    AMZN                     Amazon.com Inc. Common Stock   $2301.35   \n",
       "7622    TSM  Taiwan Semiconductor Manufacturing Company Ltd.   $93.3825   \n",
       "5480   NVDA                  NVIDIA Corporation Common Stock    $181.84   \n",
       "...     ...                                              ...        ...   \n",
       "3951    IMH       Impac Mortgage Holdings Inc. Common Stock       $0.70   \n",
       "4092   ISIG               Insignia Systems Inc. Common Stock    $7.3567   \n",
       "4909   MIND           MIND Technology Inc. Common Stock (DE)    $0.9402   \n",
       "1717   CLWT  Euro Tech Holdings Company Limited Common Stock    $1.5301   \n",
       "278    AHPI     Allied Healthcare Products Inc. Common Stock    $1.8801   \n",
       "\n",
       "      Net Change % Change    Market Cap        Country  IPO Year    Volume  \\\n",
       "20        3.8008   2.612%  2.589172e+12  United States    1980.0  61494093   \n",
       "5070      4.8700   1.862%  1.992190e+12  United States    1986.0  21699478   \n",
       "469      85.1400   3.842%  1.170744e+12  United States    1997.0   3180182   \n",
       "7622      2.9725   3.288%  4.842628e+11         Taiwan    1997.0   5526460   \n",
       "5480      9.2000   5.329%  4.553300e+11  United States    1999.0  51524176   \n",
       "...          ...      ...           ...            ...       ...       ...   \n",
       "3951      0.0000    0.00%  1.501862e+07  United States    1997.0     19760   \n",
       "4092      0.1167   1.612%  1.314124e+07  United States    1991.0      9672   \n",
       "4909      0.0171   1.852%  1.295041e+07  United States    1994.0     17151   \n",
       "1717      0.0101   0.664%  1.183094e+07      Hong Kong    1997.0      2687   \n",
       "278       0.1501   8.676%  7.545851e+06  United States    1992.0    119119   \n",
       "\n",
       "                 Sector                                 Industry  \n",
       "20           Technology                   Computer Manufacturing  \n",
       "5070         Technology  Computer Software: Prepackaged Software  \n",
       "469   Consumer Services           Catalog/Specialty Distribution  \n",
       "7622         Technology                           Semiconductors  \n",
       "5480         Technology                           Semiconductors  \n",
       "...                 ...                                      ...  \n",
       "3951            Finance               Finance: Consumer Services  \n",
       "4092         Technology                              Advertising  \n",
       "4909      Capital Goods          Industrial Machinery/Components  \n",
       "1717  Consumer Durables          Diversified Electronic Products  \n",
       "278         Health Care                   Industrial Specialties  \n",
       "\n",
       "[473 rows x 11 columns]"
      ]
     },
     "execution_count": 462,
     "metadata": {},
     "output_type": "execute_result"
    }
   ],
   "source": [
    "COUNT = 1000\n",
    "tickers_largest_caps = old_companies.sort_values(\"Market Cap\", ascending=False)[:COUNT]\n",
    "index_large = tickers_largest_caps[:COUNT]\n",
    "index_large = index_large.loc[index_large[\"Symbol\"].map(lambda x: x not in companies_to_drop_2000)]\n",
    "index_large"
   ]
  },
  {
   "cell_type": "code",
   "execution_count": 463,
   "metadata": {},
   "outputs": [
    {
     "data": {
      "text/plain": [
       "11220327059039.0"
      ]
     },
     "execution_count": 463,
     "metadata": {},
     "output_type": "execute_result"
    }
   ],
   "source": [
    "sum_cap = sum(index_large[\"Market Cap\"])\n",
    "sum_cap"
   ]
  },
  {
   "cell_type": "code",
   "execution_count": 464,
   "metadata": {},
   "outputs": [
    {
     "data": {
      "text/html": [
       "<div>\n",
       "<style scoped>\n",
       "    .dataframe tbody tr th:only-of-type {\n",
       "        vertical-align: middle;\n",
       "    }\n",
       "\n",
       "    .dataframe tbody tr th {\n",
       "        vertical-align: top;\n",
       "    }\n",
       "\n",
       "    .dataframe thead th {\n",
       "        text-align: right;\n",
       "    }\n",
       "</style>\n",
       "<table border=\"1\" class=\"dataframe\">\n",
       "  <thead>\n",
       "    <tr style=\"text-align: right;\">\n",
       "      <th></th>\n",
       "      <th>Symbol</th>\n",
       "      <th>Share</th>\n",
       "    </tr>\n",
       "  </thead>\n",
       "  <tbody>\n",
       "    <tr>\n",
       "      <th>20</th>\n",
       "      <td>AAPL</td>\n",
       "      <td>2.307573e-01</td>\n",
       "    </tr>\n",
       "    <tr>\n",
       "      <th>5070</th>\n",
       "      <td>MSFT</td>\n",
       "      <td>1.775519e-01</td>\n",
       "    </tr>\n",
       "    <tr>\n",
       "      <th>469</th>\n",
       "      <td>AMZN</td>\n",
       "      <td>1.043413e-01</td>\n",
       "    </tr>\n",
       "    <tr>\n",
       "      <th>7622</th>\n",
       "      <td>TSM</td>\n",
       "      <td>4.315942e-02</td>\n",
       "    </tr>\n",
       "    <tr>\n",
       "      <th>5480</th>\n",
       "      <td>NVDA</td>\n",
       "      <td>4.058081e-02</td>\n",
       "    </tr>\n",
       "    <tr>\n",
       "      <th>...</th>\n",
       "      <td>...</td>\n",
       "      <td>...</td>\n",
       "    </tr>\n",
       "    <tr>\n",
       "      <th>3951</th>\n",
       "      <td>IMH</td>\n",
       "      <td>1.338519e-06</td>\n",
       "    </tr>\n",
       "    <tr>\n",
       "      <th>4092</th>\n",
       "      <td>ISIG</td>\n",
       "      <td>1.171200e-06</td>\n",
       "    </tr>\n",
       "    <tr>\n",
       "      <th>4909</th>\n",
       "      <td>MIND</td>\n",
       "      <td>1.154192e-06</td>\n",
       "    </tr>\n",
       "    <tr>\n",
       "      <th>1717</th>\n",
       "      <td>CLWT</td>\n",
       "      <td>1.054421e-06</td>\n",
       "    </tr>\n",
       "    <tr>\n",
       "      <th>278</th>\n",
       "      <td>AHPI</td>\n",
       "      <td>6.725161e-07</td>\n",
       "    </tr>\n",
       "  </tbody>\n",
       "</table>\n",
       "<p>473 rows × 2 columns</p>\n",
       "</div>"
      ],
      "text/plain": [
       "     Symbol         Share\n",
       "20     AAPL  2.307573e-01\n",
       "5070   MSFT  1.775519e-01\n",
       "469    AMZN  1.043413e-01\n",
       "7622    TSM  4.315942e-02\n",
       "5480   NVDA  4.058081e-02\n",
       "...     ...           ...\n",
       "3951    IMH  1.338519e-06\n",
       "4092   ISIG  1.171200e-06\n",
       "4909   MIND  1.154192e-06\n",
       "1717   CLWT  1.054421e-06\n",
       "278    AHPI  6.725161e-07\n",
       "\n",
       "[473 rows x 2 columns]"
      ]
     },
     "execution_count": 464,
     "metadata": {},
     "output_type": "execute_result"
    }
   ],
   "source": [
    "props = pd.concat([index_large[\"Symbol\"], index_large[\"Market Cap\"].apply(lambda x: x / sum_cap)], axis=1, keys=[\"Symbol\", \"Share\"])\n",
    "props"
   ]
  },
  {
   "cell_type": "markdown",
   "metadata": {},
   "source": [
    "### Get the stock value history of the big companies for the last 20 years"
   ]
  },
  {
   "cell_type": "code",
   "execution_count": 465,
   "metadata": {},
   "outputs": [
    {
     "data": {
      "text/html": [
       "<div>\n",
       "<style scoped>\n",
       "    .dataframe tbody tr th:only-of-type {\n",
       "        vertical-align: middle;\n",
       "    }\n",
       "\n",
       "    .dataframe tbody tr th {\n",
       "        vertical-align: top;\n",
       "    }\n",
       "\n",
       "    .dataframe thead th {\n",
       "        text-align: right;\n",
       "    }\n",
       "</style>\n",
       "<table border=\"1\" class=\"dataframe\">\n",
       "  <thead>\n",
       "    <tr style=\"text-align: right;\">\n",
       "      <th></th>\n",
       "      <th>AAPL</th>\n",
       "      <th>MSFT</th>\n",
       "      <th>AMZN</th>\n",
       "      <th>TSM</th>\n",
       "      <th>NVDA</th>\n",
       "      <th>ASML</th>\n",
       "      <th>CSCO</th>\n",
       "      <th>ADBE</th>\n",
       "      <th>ORCL</th>\n",
       "      <th>UPS</th>\n",
       "      <th>...</th>\n",
       "      <th>DAIO</th>\n",
       "      <th>TRIB</th>\n",
       "      <th>TAIT</th>\n",
       "      <th>RMTI</th>\n",
       "      <th>ELTK</th>\n",
       "      <th>IMH</th>\n",
       "      <th>ISIG</th>\n",
       "      <th>MIND</th>\n",
       "      <th>CLWT</th>\n",
       "      <th>AHPI</th>\n",
       "    </tr>\n",
       "    <tr>\n",
       "      <th>Date</th>\n",
       "      <th></th>\n",
       "      <th></th>\n",
       "      <th></th>\n",
       "      <th></th>\n",
       "      <th></th>\n",
       "      <th></th>\n",
       "      <th></th>\n",
       "      <th></th>\n",
       "      <th></th>\n",
       "      <th></th>\n",
       "      <th></th>\n",
       "      <th></th>\n",
       "      <th></th>\n",
       "      <th></th>\n",
       "      <th></th>\n",
       "      <th></th>\n",
       "      <th></th>\n",
       "      <th></th>\n",
       "      <th></th>\n",
       "      <th></th>\n",
       "      <th></th>\n",
       "    </tr>\n",
       "  </thead>\n",
       "  <tbody>\n",
       "    <tr>\n",
       "      <th>2001-09-05</th>\n",
       "      <td>0.328482</td>\n",
       "      <td>28.480000</td>\n",
       "      <td>8.155000</td>\n",
       "      <td>8.654770</td>\n",
       "      <td>3.317708</td>\n",
       "      <td>18.613125</td>\n",
       "      <td>15.310000</td>\n",
       "      <td>16.097500</td>\n",
       "      <td>12.160000</td>\n",
       "      <td>55.309999</td>\n",
       "      <td>...</td>\n",
       "      <td>2.25000</td>\n",
       "      <td>5.8600</td>\n",
       "      <td>1.75000</td>\n",
       "      <td>12.705</td>\n",
       "      <td>13.650</td>\n",
       "      <td>69.500000</td>\n",
       "      <td>50.29500</td>\n",
       "      <td>4.540</td>\n",
       "      <td>5.046704</td>\n",
       "      <td>6.700</td>\n",
       "    </tr>\n",
       "    <tr>\n",
       "      <th>2001-09-06</th>\n",
       "      <td>0.322500</td>\n",
       "      <td>28.145000</td>\n",
       "      <td>7.995000</td>\n",
       "      <td>8.474746</td>\n",
       "      <td>3.252500</td>\n",
       "      <td>17.167500</td>\n",
       "      <td>14.470000</td>\n",
       "      <td>15.682500</td>\n",
       "      <td>11.370000</td>\n",
       "      <td>54.849998</td>\n",
       "      <td>...</td>\n",
       "      <td>2.25000</td>\n",
       "      <td>5.9400</td>\n",
       "      <td>1.67500</td>\n",
       "      <td>13.365</td>\n",
       "      <td>13.100</td>\n",
       "      <td>68.750000</td>\n",
       "      <td>51.20500</td>\n",
       "      <td>4.420</td>\n",
       "      <td>4.029304</td>\n",
       "      <td>6.650</td>\n",
       "    </tr>\n",
       "    <tr>\n",
       "      <th>2001-09-07</th>\n",
       "      <td>0.310536</td>\n",
       "      <td>27.877501</td>\n",
       "      <td>8.235000</td>\n",
       "      <td>8.678547</td>\n",
       "      <td>3.208750</td>\n",
       "      <td>16.903125</td>\n",
       "      <td>14.305000</td>\n",
       "      <td>15.475000</td>\n",
       "      <td>10.965000</td>\n",
       "      <td>54.185001</td>\n",
       "      <td>...</td>\n",
       "      <td>2.22000</td>\n",
       "      <td>5.9800</td>\n",
       "      <td>1.66500</td>\n",
       "      <td>11.880</td>\n",
       "      <td>10.800</td>\n",
       "      <td>65.750000</td>\n",
       "      <td>49.87500</td>\n",
       "      <td>4.400</td>\n",
       "      <td>4.029304</td>\n",
       "      <td>7.000</td>\n",
       "    </tr>\n",
       "    <tr>\n",
       "      <th>2001-09-10</th>\n",
       "      <td>0.306875</td>\n",
       "      <td>28.125000</td>\n",
       "      <td>8.515000</td>\n",
       "      <td>8.698927</td>\n",
       "      <td>3.190000</td>\n",
       "      <td>16.723125</td>\n",
       "      <td>14.260000</td>\n",
       "      <td>16.185000</td>\n",
       "      <td>11.175000</td>\n",
       "      <td>53.349998</td>\n",
       "      <td>...</td>\n",
       "      <td>2.18000</td>\n",
       "      <td>5.8200</td>\n",
       "      <td>1.73000</td>\n",
       "      <td>10.780</td>\n",
       "      <td>11.075</td>\n",
       "      <td>62.549999</td>\n",
       "      <td>49.45500</td>\n",
       "      <td>4.405</td>\n",
       "      <td>4.281136</td>\n",
       "      <td>6.600</td>\n",
       "    </tr>\n",
       "    <tr>\n",
       "      <th>2001-09-11</th>\n",
       "      <td>NaN</td>\n",
       "      <td>NaN</td>\n",
       "      <td>NaN</td>\n",
       "      <td>NaN</td>\n",
       "      <td>NaN</td>\n",
       "      <td>NaN</td>\n",
       "      <td>NaN</td>\n",
       "      <td>NaN</td>\n",
       "      <td>NaN</td>\n",
       "      <td>NaN</td>\n",
       "      <td>...</td>\n",
       "      <td>NaN</td>\n",
       "      <td>NaN</td>\n",
       "      <td>NaN</td>\n",
       "      <td>NaN</td>\n",
       "      <td>NaN</td>\n",
       "      <td>NaN</td>\n",
       "      <td>NaN</td>\n",
       "      <td>NaN</td>\n",
       "      <td>NaN</td>\n",
       "      <td>NaN</td>\n",
       "    </tr>\n",
       "    <tr>\n",
       "      <th>...</th>\n",
       "      <td>...</td>\n",
       "      <td>...</td>\n",
       "      <td>...</td>\n",
       "      <td>...</td>\n",
       "      <td>...</td>\n",
       "      <td>...</td>\n",
       "      <td>...</td>\n",
       "      <td>...</td>\n",
       "      <td>...</td>\n",
       "      <td>...</td>\n",
       "      <td>...</td>\n",
       "      <td>...</td>\n",
       "      <td>...</td>\n",
       "      <td>...</td>\n",
       "      <td>...</td>\n",
       "      <td>...</td>\n",
       "      <td>...</td>\n",
       "      <td>...</td>\n",
       "      <td>...</td>\n",
       "      <td>...</td>\n",
       "      <td>...</td>\n",
       "    </tr>\n",
       "    <tr>\n",
       "      <th>2022-05-12</th>\n",
       "      <td>142.665001</td>\n",
       "      <td>256.520004</td>\n",
       "      <td>2096.805054</td>\n",
       "      <td>86.955002</td>\n",
       "      <td>161.970001</td>\n",
       "      <td>518.529999</td>\n",
       "      <td>48.460001</td>\n",
       "      <td>380.944992</td>\n",
       "      <td>70.805000</td>\n",
       "      <td>177.394997</td>\n",
       "      <td>...</td>\n",
       "      <td>3.06000</td>\n",
       "      <td>1.1650</td>\n",
       "      <td>4.11000</td>\n",
       "      <td>2.970</td>\n",
       "      <td>3.695</td>\n",
       "      <td>0.690000</td>\n",
       "      <td>7.34500</td>\n",
       "      <td>0.935</td>\n",
       "      <td>1.305000</td>\n",
       "      <td>1.880</td>\n",
       "    </tr>\n",
       "    <tr>\n",
       "      <th>2022-05-13</th>\n",
       "      <td>145.849998</td>\n",
       "      <td>259.235001</td>\n",
       "      <td>2221.239990</td>\n",
       "      <td>89.915001</td>\n",
       "      <td>172.470001</td>\n",
       "      <td>544.440002</td>\n",
       "      <td>49.135000</td>\n",
       "      <td>400.960007</td>\n",
       "      <td>71.064999</td>\n",
       "      <td>177.449997</td>\n",
       "      <td>...</td>\n",
       "      <td>3.10500</td>\n",
       "      <td>1.1600</td>\n",
       "      <td>3.85000</td>\n",
       "      <td>1.970</td>\n",
       "      <td>3.855</td>\n",
       "      <td>0.695000</td>\n",
       "      <td>7.28500</td>\n",
       "      <td>0.925</td>\n",
       "      <td>1.355000</td>\n",
       "      <td>1.890</td>\n",
       "    </tr>\n",
       "    <tr>\n",
       "      <th>2022-05-16</th>\n",
       "      <td>145.544998</td>\n",
       "      <td>260.729996</td>\n",
       "      <td>2239.104980</td>\n",
       "      <td>90.140003</td>\n",
       "      <td>173.864998</td>\n",
       "      <td>534.100006</td>\n",
       "      <td>49.330000</td>\n",
       "      <td>401.299988</td>\n",
       "      <td>70.200001</td>\n",
       "      <td>178.795006</td>\n",
       "      <td>...</td>\n",
       "      <td>3.03500</td>\n",
       "      <td>1.1750</td>\n",
       "      <td>3.70000</td>\n",
       "      <td>2.060</td>\n",
       "      <td>3.795</td>\n",
       "      <td>0.690000</td>\n",
       "      <td>7.17500</td>\n",
       "      <td>0.935</td>\n",
       "      <td>1.465000</td>\n",
       "      <td>1.830</td>\n",
       "    </tr>\n",
       "    <tr>\n",
       "      <th>2022-05-17</th>\n",
       "      <td>149.050003</td>\n",
       "      <td>266.464996</td>\n",
       "      <td>2286.435059</td>\n",
       "      <td>93.310001</td>\n",
       "      <td>181.255005</td>\n",
       "      <td>559.290009</td>\n",
       "      <td>50.139999</td>\n",
       "      <td>411.364990</td>\n",
       "      <td>71.465000</td>\n",
       "      <td>183.070000</td>\n",
       "      <td>...</td>\n",
       "      <td>3.03500</td>\n",
       "      <td>1.2150</td>\n",
       "      <td>3.60500</td>\n",
       "      <td>2.030</td>\n",
       "      <td>3.815</td>\n",
       "      <td>0.675000</td>\n",
       "      <td>7.50000</td>\n",
       "      <td>0.955</td>\n",
       "      <td>1.500000</td>\n",
       "      <td>1.835</td>\n",
       "    </tr>\n",
       "    <tr>\n",
       "      <th>2022-05-18</th>\n",
       "      <td>144.205002</td>\n",
       "      <td>259.107498</td>\n",
       "      <td>2190.395020</td>\n",
       "      <td>91.674999</td>\n",
       "      <td>173.337502</td>\n",
       "      <td>539.424988</td>\n",
       "      <td>49.422501</td>\n",
       "      <td>401.320007</td>\n",
       "      <td>69.545002</td>\n",
       "      <td>178.150002</td>\n",
       "      <td>...</td>\n",
       "      <td>3.03735</td>\n",
       "      <td>1.2209</td>\n",
       "      <td>3.63505</td>\n",
       "      <td>1.990</td>\n",
       "      <td>4.200</td>\n",
       "      <td>0.695000</td>\n",
       "      <td>7.29665</td>\n",
       "      <td>0.950</td>\n",
       "      <td>1.518650</td>\n",
       "      <td>1.910</td>\n",
       "    </tr>\n",
       "  </tbody>\n",
       "</table>\n",
       "<p>5215 rows × 473 columns</p>\n",
       "</div>"
      ],
      "text/plain": [
       "                  AAPL        MSFT         AMZN        TSM        NVDA  \\\n",
       "Date                                                                     \n",
       "2001-09-05    0.328482   28.480000     8.155000   8.654770    3.317708   \n",
       "2001-09-06    0.322500   28.145000     7.995000   8.474746    3.252500   \n",
       "2001-09-07    0.310536   27.877501     8.235000   8.678547    3.208750   \n",
       "2001-09-10    0.306875   28.125000     8.515000   8.698927    3.190000   \n",
       "2001-09-11         NaN         NaN          NaN        NaN         NaN   \n",
       "...                ...         ...          ...        ...         ...   \n",
       "2022-05-12  142.665001  256.520004  2096.805054  86.955002  161.970001   \n",
       "2022-05-13  145.849998  259.235001  2221.239990  89.915001  172.470001   \n",
       "2022-05-16  145.544998  260.729996  2239.104980  90.140003  173.864998   \n",
       "2022-05-17  149.050003  266.464996  2286.435059  93.310001  181.255005   \n",
       "2022-05-18  144.205002  259.107498  2190.395020  91.674999  173.337502   \n",
       "\n",
       "                  ASML       CSCO        ADBE       ORCL         UPS  ...  \\\n",
       "Date                                                                  ...   \n",
       "2001-09-05   18.613125  15.310000   16.097500  12.160000   55.309999  ...   \n",
       "2001-09-06   17.167500  14.470000   15.682500  11.370000   54.849998  ...   \n",
       "2001-09-07   16.903125  14.305000   15.475000  10.965000   54.185001  ...   \n",
       "2001-09-10   16.723125  14.260000   16.185000  11.175000   53.349998  ...   \n",
       "2001-09-11         NaN        NaN         NaN        NaN         NaN  ...   \n",
       "...                ...        ...         ...        ...         ...  ...   \n",
       "2022-05-12  518.529999  48.460001  380.944992  70.805000  177.394997  ...   \n",
       "2022-05-13  544.440002  49.135000  400.960007  71.064999  177.449997  ...   \n",
       "2022-05-16  534.100006  49.330000  401.299988  70.200001  178.795006  ...   \n",
       "2022-05-17  559.290009  50.139999  411.364990  71.465000  183.070000  ...   \n",
       "2022-05-18  539.424988  49.422501  401.320007  69.545002  178.150002  ...   \n",
       "\n",
       "               DAIO    TRIB     TAIT    RMTI    ELTK        IMH      ISIG  \\\n",
       "Date                                                                        \n",
       "2001-09-05  2.25000  5.8600  1.75000  12.705  13.650  69.500000  50.29500   \n",
       "2001-09-06  2.25000  5.9400  1.67500  13.365  13.100  68.750000  51.20500   \n",
       "2001-09-07  2.22000  5.9800  1.66500  11.880  10.800  65.750000  49.87500   \n",
       "2001-09-10  2.18000  5.8200  1.73000  10.780  11.075  62.549999  49.45500   \n",
       "2001-09-11      NaN     NaN      NaN     NaN     NaN        NaN       NaN   \n",
       "...             ...     ...      ...     ...     ...        ...       ...   \n",
       "2022-05-12  3.06000  1.1650  4.11000   2.970   3.695   0.690000   7.34500   \n",
       "2022-05-13  3.10500  1.1600  3.85000   1.970   3.855   0.695000   7.28500   \n",
       "2022-05-16  3.03500  1.1750  3.70000   2.060   3.795   0.690000   7.17500   \n",
       "2022-05-17  3.03500  1.2150  3.60500   2.030   3.815   0.675000   7.50000   \n",
       "2022-05-18  3.03735  1.2209  3.63505   1.990   4.200   0.695000   7.29665   \n",
       "\n",
       "             MIND      CLWT   AHPI  \n",
       "Date                                \n",
       "2001-09-05  4.540  5.046704  6.700  \n",
       "2001-09-06  4.420  4.029304  6.650  \n",
       "2001-09-07  4.400  4.029304  7.000  \n",
       "2001-09-10  4.405  4.281136  6.600  \n",
       "2001-09-11    NaN       NaN    NaN  \n",
       "...           ...       ...    ...  \n",
       "2022-05-12  0.935  1.305000  1.880  \n",
       "2022-05-13  0.925  1.355000  1.890  \n",
       "2022-05-16  0.935  1.465000  1.830  \n",
       "2022-05-17  0.955  1.500000  1.835  \n",
       "2022-05-18  0.950  1.518650  1.910  \n",
       "\n",
       "[5215 rows x 473 columns]"
      ]
     },
     "execution_count": 465,
     "metadata": {},
     "output_type": "execute_result"
    }
   ],
   "source": [
    "last_20_years = all_nasdaq_2000[-20 * 365 * 5 // 7:]\n",
    "avg_price = (last_20_years[\"Close\"] + last_20_years[\"Open\"]) / 2\n",
    "stock_history_big_index = avg_price.filter(index_large[\"Symbol\"])\n",
    "stock_history_big_index"
   ]
  },
  {
   "cell_type": "markdown",
   "metadata": {},
   "source": [
    "### What are the prices by the start date?"
   ]
  },
  {
   "cell_type": "code",
   "execution_count": 467,
   "metadata": {},
   "outputs": [],
   "source": [
    "date_from = \"2002-01-22\"\n",
    "date_to = \"2022-05-17\"\n",
    "\n",
    "price_from = stock_history_big_index.loc[date_from]\n",
    "price_to = stock_history_big_index.loc[date_to]"
   ]
  },
  {
   "cell_type": "code",
   "execution_count": 468,
   "metadata": {},
   "outputs": [
    {
     "data": {
      "text/plain": [
       "AAPL     0.393661\n",
       "MSFT    32.767500\n",
       "AMZN    12.670000\n",
       "TSM     12.119396\n",
       "NVDA     5.275000\n",
       "          ...    \n",
       "IMH     82.200001\n",
       "ISIG    58.975000\n",
       "MIND     4.580000\n",
       "CLWT     4.373810\n",
       "AHPI     7.200000\n",
       "Name: 2002-01-22 00:00:00, Length: 473, dtype: float64"
      ]
     },
     "execution_count": 468,
     "metadata": {},
     "output_type": "execute_result"
    }
   ],
   "source": [
    "price_from"
   ]
  },
  {
   "cell_type": "code",
   "execution_count": 469,
   "metadata": {},
   "outputs": [
    {
     "data": {
      "text/plain": [
       "AAPL     149.050003\n",
       "MSFT     266.464996\n",
       "AMZN    2286.435059\n",
       "TSM       93.310001\n",
       "NVDA     181.255005\n",
       "           ...     \n",
       "IMH        0.675000\n",
       "ISIG       7.500000\n",
       "MIND       0.955000\n",
       "CLWT       1.500000\n",
       "AHPI       1.835000\n",
       "Name: 2022-05-17 00:00:00, Length: 473, dtype: float64"
      ]
     },
     "execution_count": 469,
     "metadata": {},
     "output_type": "execute_result"
    }
   ],
   "source": [
    "price_to"
   ]
  },
  {
   "cell_type": "code",
   "execution_count": 470,
   "metadata": {},
   "outputs": [
    {
     "data": {
      "text/plain": [
       "Symbol\n",
       "AAPL    2.589172e+12\n",
       "MSFT    1.992190e+12\n",
       "AMZN    1.170744e+12\n",
       "TSM     4.842628e+11\n",
       "NVDA    4.553300e+11\n",
       "            ...     \n",
       "IMH     1.501862e+07\n",
       "ISIG    1.314124e+07\n",
       "MIND    1.295041e+07\n",
       "CLWT    1.183094e+07\n",
       "AHPI    7.545851e+06\n",
       "Name: Market Cap, Length: 473, dtype: float64"
      ]
     },
     "execution_count": 470,
     "metadata": {},
     "output_type": "execute_result"
    }
   ],
   "source": [
    "market_cap_li_indexed = pd.concat([index_large[\"Market Cap\"]], axis=1).set_index(index_large[\"Symbol\"])[\"Market Cap\"]\n",
    "market_cap_li_indexed"
   ]
  },
  {
   "cell_type": "code",
   "execution_count": 471,
   "metadata": {},
   "outputs": [
    {
     "data": {
      "text/plain": [
       "AAPL    6.838350e+09\n",
       "MSFT    2.449818e+11\n",
       "AMZN    6.487534e+09\n",
       "TSM     6.289758e+10\n",
       "NVDA    1.325131e+10\n",
       "            ...     \n",
       "IMH     1.828934e+09\n",
       "ISIG    1.033340e+08\n",
       "MIND    6.210774e+07\n",
       "CLWT    3.449753e+07\n",
       "AHPI    2.960770e+07\n",
       "Length: 473, dtype: float64"
      ]
     },
     "execution_count": 471,
     "metadata": {},
     "output_type": "execute_result"
    }
   ],
   "source": [
    "market_cap_from = price_from / price_to * market_cap_li_indexed\n",
    "market_cap_from"
   ]
  },
  {
   "cell_type": "code",
   "execution_count": 472,
   "metadata": {},
   "outputs": [
    {
     "data": {
      "text/plain": [
       "20      AAPL\n",
       "5070    MSFT\n",
       "469     AMZN\n",
       "7622     TSM\n",
       "5480    NVDA\n",
       "        ... \n",
       "3951     IMH\n",
       "4092    ISIG\n",
       "4909    MIND\n",
       "1717    CLWT\n",
       "278     AHPI\n",
       "Name: Symbol, Length: 473, dtype: object"
      ]
     },
     "execution_count": 472,
     "metadata": {},
     "output_type": "execute_result"
    }
   ],
   "source": [
    "index_large[\"Symbol\"]"
   ]
  },
  {
   "cell_type": "code",
   "execution_count": 473,
   "metadata": {},
   "outputs": [
    {
     "data": {
      "text/plain": [
       "Series([], dtype: float64)"
      ]
     },
     "execution_count": 473,
     "metadata": {},
     "output_type": "execute_result"
    }
   ],
   "source": [
    "market_cap_from[market_cap_from.isna()]"
   ]
  },
  {
   "cell_type": "markdown",
   "metadata": {},
   "source": [
    "### Given the budget, compute the amount of money needed for each company"
   ]
  },
  {
   "cell_type": "code",
   "execution_count": 474,
   "metadata": {},
   "outputs": [
    {
     "data": {
      "text/plain": [
       "AAPL     24.392421\n",
       "MSFT    873.851154\n",
       "AMZN     23.141057\n",
       "TSM     224.355891\n",
       "NVDA     47.267457\n",
       "           ...    \n",
       "IMH       6.523815\n",
       "ISIG      0.368593\n",
       "MIND      0.221539\n",
       "CLWT      0.123053\n",
       "AHPI      0.105611\n",
       "Length: 473, dtype: float64"
      ]
     },
     "execution_count": 474,
     "metadata": {},
     "output_type": "execute_result"
    }
   ],
   "source": [
    "market_cap_from.map(lambda x: x / market_sum * budget)"
   ]
  },
  {
   "cell_type": "code",
   "execution_count": 477,
   "metadata": {},
   "outputs": [
    {
     "data": {
      "text/plain": [
       "AAPL    6.838350e+09\n",
       "MSFT    2.449818e+11\n",
       "AMZN    6.487534e+09\n",
       "TSM     6.289758e+10\n",
       "NVDA    1.325131e+10\n",
       "            ...     \n",
       "IMH     1.828934e+09\n",
       "ISIG    1.033340e+08\n",
       "MIND    6.210774e+07\n",
       "CLWT    3.449753e+07\n",
       "AHPI    2.960770e+07\n",
       "Length: 473, dtype: float64"
      ]
     },
     "execution_count": 477,
     "metadata": {},
     "output_type": "execute_result"
    }
   ],
   "source": [
    "market_cap_from"
   ]
  },
  {
   "cell_type": "code",
   "execution_count": 476,
   "metadata": {},
   "outputs": [
    {
     "name": "stdout",
     "output_type": "stream",
     "text": [
      "Total market cap 1688016531965.493\n"
     ]
    },
    {
     "data": {
      "text/plain": [
       "AAPL      4.051116\n",
       "MSFT    145.130006\n",
       "AMZN      3.843288\n",
       "TSM      37.261233\n",
       "NVDA      7.850223\n",
       "           ...    \n",
       "IMH       1.083481\n",
       "ISIG      0.061216\n",
       "MIND      0.036793\n",
       "CLWT      0.020437\n",
       "AHPI      0.017540\n",
       "Length: 473, dtype: float64"
      ]
     },
     "execution_count": 476,
     "metadata": {},
     "output_type": "execute_result"
    }
   ],
   "source": [
    "budget = 1000.0\n",
    "market_sum = market_cap_from.sum()\n",
    "print(\"Total market cap\", market_sum)\n",
    "money_to_be_spent_on_company = market_cap_from.map(lambda x: x / market_sum * budget)\n",
    "money_to_be_spent_on_company"
   ]
  },
  {
   "cell_type": "markdown",
   "metadata": {},
   "source": [
    "### How many stocks of each company we need?"
   ]
  },
  {
   "cell_type": "code",
   "execution_count": 478,
   "metadata": {},
   "outputs": [
    {
     "data": {
      "text/html": [
       "<div>\n",
       "<style scoped>\n",
       "    .dataframe tbody tr th:only-of-type {\n",
       "        vertical-align: middle;\n",
       "    }\n",
       "\n",
       "    .dataframe tbody tr th {\n",
       "        vertical-align: top;\n",
       "    }\n",
       "\n",
       "    .dataframe thead th {\n",
       "        text-align: right;\n",
       "    }\n",
       "</style>\n",
       "<table border=\"1\" class=\"dataframe\">\n",
       "  <thead>\n",
       "    <tr style=\"text-align: right;\">\n",
       "      <th></th>\n",
       "      <th>Symbol</th>\n",
       "      <th>Stock count</th>\n",
       "    </tr>\n",
       "  </thead>\n",
       "  <tbody>\n",
       "    <tr>\n",
       "      <th>20</th>\n",
       "      <td>AAPL</td>\n",
       "      <td>10.290874</td>\n",
       "    </tr>\n",
       "    <tr>\n",
       "      <th>5070</th>\n",
       "      <td>MSFT</td>\n",
       "      <td>4.429084</td>\n",
       "    </tr>\n",
       "    <tr>\n",
       "      <th>469</th>\n",
       "      <td>AMZN</td>\n",
       "      <td>0.303338</td>\n",
       "    </tr>\n",
       "    <tr>\n",
       "      <th>7622</th>\n",
       "      <td>TSM</td>\n",
       "      <td>3.074512</td>\n",
       "    </tr>\n",
       "    <tr>\n",
       "      <th>5480</th>\n",
       "      <td>NVDA</td>\n",
       "      <td>1.488194</td>\n",
       "    </tr>\n",
       "    <tr>\n",
       "      <th>...</th>\n",
       "      <td>...</td>\n",
       "      <td>...</td>\n",
       "    </tr>\n",
       "    <tr>\n",
       "      <th>3951</th>\n",
       "      <td>IMH</td>\n",
       "      <td>0.013181</td>\n",
       "    </tr>\n",
       "    <tr>\n",
       "      <th>4092</th>\n",
       "      <td>ISIG</td>\n",
       "      <td>0.001038</td>\n",
       "    </tr>\n",
       "    <tr>\n",
       "      <th>4909</th>\n",
       "      <td>MIND</td>\n",
       "      <td>0.008033</td>\n",
       "    </tr>\n",
       "    <tr>\n",
       "      <th>1717</th>\n",
       "      <td>CLWT</td>\n",
       "      <td>0.004673</td>\n",
       "    </tr>\n",
       "    <tr>\n",
       "      <th>278</th>\n",
       "      <td>AHPI</td>\n",
       "      <td>0.002436</td>\n",
       "    </tr>\n",
       "  </tbody>\n",
       "</table>\n",
       "<p>473 rows × 2 columns</p>\n",
       "</div>"
      ],
      "text/plain": [
       "     Symbol  Stock count\n",
       "20     AAPL    10.290874\n",
       "5070   MSFT     4.429084\n",
       "469    AMZN     0.303338\n",
       "7622    TSM     3.074512\n",
       "5480   NVDA     1.488194\n",
       "...     ...          ...\n",
       "3951    IMH     0.013181\n",
       "4092   ISIG     0.001038\n",
       "4909   MIND     0.008033\n",
       "1717   CLWT     0.004673\n",
       "278    AHPI     0.002436\n",
       "\n",
       "[473 rows x 2 columns]"
      ]
     },
     "execution_count": 478,
     "metadata": {},
     "output_type": "execute_result"
    }
   ],
   "source": [
    "number_of_stocks = pd.concat([index_large[\"Symbol\"], index_large[\"Symbol\"].map(lambda ticker: money_to_be_spent_on_company[ticker] / price_from[ticker])], axis=1, keys=[\"Symbol\", \"Stock count\"])\n",
    "number_of_stocks"
   ]
  },
  {
   "cell_type": "code",
   "execution_count": 479,
   "metadata": {},
   "outputs": [
    {
     "data": {
      "text/html": [
       "<div>\n",
       "<style scoped>\n",
       "    .dataframe tbody tr th:only-of-type {\n",
       "        vertical-align: middle;\n",
       "    }\n",
       "\n",
       "    .dataframe tbody tr th {\n",
       "        vertical-align: top;\n",
       "    }\n",
       "\n",
       "    .dataframe thead th {\n",
       "        text-align: right;\n",
       "    }\n",
       "</style>\n",
       "<table border=\"1\" class=\"dataframe\">\n",
       "  <thead>\n",
       "    <tr style=\"text-align: right;\">\n",
       "      <th></th>\n",
       "      <th>Symbol</th>\n",
       "      <th>Stock count</th>\n",
       "    </tr>\n",
       "  </thead>\n",
       "  <tbody>\n",
       "    <tr>\n",
       "      <th>20</th>\n",
       "      <td>AAPL</td>\n",
       "      <td>10.290874</td>\n",
       "    </tr>\n",
       "    <tr>\n",
       "      <th>5070</th>\n",
       "      <td>MSFT</td>\n",
       "      <td>4.429084</td>\n",
       "    </tr>\n",
       "    <tr>\n",
       "      <th>469</th>\n",
       "      <td>AMZN</td>\n",
       "      <td>0.303338</td>\n",
       "    </tr>\n",
       "    <tr>\n",
       "      <th>7622</th>\n",
       "      <td>TSM</td>\n",
       "      <td>3.074512</td>\n",
       "    </tr>\n",
       "    <tr>\n",
       "      <th>5480</th>\n",
       "      <td>NVDA</td>\n",
       "      <td>1.488194</td>\n",
       "    </tr>\n",
       "    <tr>\n",
       "      <th>...</th>\n",
       "      <td>...</td>\n",
       "      <td>...</td>\n",
       "    </tr>\n",
       "    <tr>\n",
       "      <th>3951</th>\n",
       "      <td>IMH</td>\n",
       "      <td>0.013181</td>\n",
       "    </tr>\n",
       "    <tr>\n",
       "      <th>4092</th>\n",
       "      <td>ISIG</td>\n",
       "      <td>0.001038</td>\n",
       "    </tr>\n",
       "    <tr>\n",
       "      <th>4909</th>\n",
       "      <td>MIND</td>\n",
       "      <td>0.008033</td>\n",
       "    </tr>\n",
       "    <tr>\n",
       "      <th>1717</th>\n",
       "      <td>CLWT</td>\n",
       "      <td>0.004673</td>\n",
       "    </tr>\n",
       "    <tr>\n",
       "      <th>278</th>\n",
       "      <td>AHPI</td>\n",
       "      <td>0.002436</td>\n",
       "    </tr>\n",
       "  </tbody>\n",
       "</table>\n",
       "<p>473 rows × 2 columns</p>\n",
       "</div>"
      ],
      "text/plain": [
       "     Symbol  Stock count\n",
       "20     AAPL    10.290874\n",
       "5070   MSFT     4.429084\n",
       "469    AMZN     0.303338\n",
       "7622    TSM     3.074512\n",
       "5480   NVDA     1.488194\n",
       "...     ...          ...\n",
       "3951    IMH     0.013181\n",
       "4092   ISIG     0.001038\n",
       "4909   MIND     0.008033\n",
       "1717   CLWT     0.004673\n",
       "278    AHPI     0.002436\n",
       "\n",
       "[473 rows x 2 columns]"
      ]
     },
     "execution_count": 479,
     "metadata": {},
     "output_type": "execute_result"
    }
   ],
   "source": [
    "number_of_stocks"
   ]
  },
  {
   "cell_type": "code",
   "execution_count": 646,
   "metadata": {},
   "outputs": [
    {
     "data": {
      "image/png": "[encoded data removed]",
      "text/plain": [
       "<Figure size 432x288 with 1 Axes>"
      ]
     },
     "metadata": {},
     "output_type": "display_data"
    }
   ],
   "source": [
    "plt.pie(number_of_stocks[\"Stock count\"]);"
   ]
  },
  {
   "cell_type": "markdown",
   "metadata": {},
   "source": [
    "### What's the initial value of our portfolio and the final one?"
   ]
  },
  {
   "cell_type": "code",
   "execution_count": 481,
   "metadata": {},
   "outputs": [],
   "source": [
    "def compute_portfolio_for_date(date, portfolio):\n",
    "    prices = avg_price.loc[date]\n",
    "    return portfolio.apply(lambda x: prices[x[\"Symbol\"]] * x[\"Stock count\"], axis=1).sum()"
   ]
  },
  {
   "cell_type": "code",
   "execution_count": 483,
   "metadata": {},
   "outputs": [
    {
     "data": {
      "text/plain": [
       "('2002-01-22', '2022-05-17')"
      ]
     },
     "execution_count": 483,
     "metadata": {},
     "output_type": "execute_result"
    }
   ],
   "source": [
    "date_from, date_to"
   ]
  },
  {
   "cell_type": "code",
   "execution_count": 482,
   "metadata": {},
   "outputs": [
    {
     "data": {
      "text/plain": [
       "(1000.0000000000001, 6647.048086652489)"
      ]
     },
     "execution_count": 482,
     "metadata": {},
     "output_type": "execute_result"
    }
   ],
   "source": [
    "compute_portfolio_for_date(date_from, number_of_stocks), compute_portfolio_for_date(date_to, number_of_stocks)"
   ]
  },
  {
   "cell_type": "markdown",
   "metadata": {},
   "source": [
    "### Visualize the growth"
   ]
  },
  {
   "cell_type": "code",
   "execution_count": 484,
   "metadata": {},
   "outputs": [],
   "source": [
    "dates = stock_history_big_index.index[::30]\n",
    "portfolio_value = dates.map(lambda x: compute_portfolio_for_date(x, number_of_stocks))"
   ]
  },
  {
   "cell_type": "code",
   "execution_count": 485,
   "metadata": {},
   "outputs": [],
   "source": [
    "import matplotlib.pyplot as plt"
   ]
  },
  {
   "cell_type": "code",
   "execution_count": 486,
   "metadata": {},
   "outputs": [
    {
     "data": {
      "text/plain": [
       "[<matplotlib.lines.Line2D at 0x193af255880>]"
      ]
     },
     "execution_count": 486,
     "metadata": {},
     "output_type": "execute_result"
    },
    {
     "data": {
      "image/png": "[encoded data removed]",
      "text/plain": [
       "<Figure size 432x288 with 1 Axes>"
      ]
     },
     "metadata": {
      "needs_background": "light"
     },
     "output_type": "display_data"
    }
   ],
   "source": [
    "plt.plot(dates, portfolio_value)"
   ]
  },
  {
   "cell_type": "code",
   "execution_count": 487,
   "metadata": {},
   "outputs": [],
   "source": [
    "nasdaq_index_costs = pd.concat([money_to_be_spent_on_company], axis=1, keys=[\"Cost\"]).reset_index().rename(columns={\"index\": \"Symbol\"})"
   ]
  },
  {
   "cell_type": "code",
   "execution_count": 488,
   "metadata": {},
   "outputs": [
    {
     "data": {
      "text/plain": [
       "DatetimeIndex(['1973-02-21', '1973-02-22', '1973-02-23', '1973-02-26',\n",
       "               '1973-02-27', '1973-02-28', '1973-03-01', '1973-03-02',\n",
       "               '1973-03-05', '1973-03-06',\n",
       "               ...\n",
       "               '2022-05-04', '2022-05-05', '2022-05-06', '2022-05-09',\n",
       "               '2022-05-10', '2022-05-11', '2022-05-12', '2022-05-13',\n",
       "               '2022-05-16', '2022-05-17'],\n",
       "              dtype='datetime64[ns]', name='Date', length=12432, freq=None)"
      ]
     },
     "execution_count": 488,
     "metadata": {},
     "output_type": "execute_result"
    }
   ],
   "source": [
    "dates = all_nasdaq.index\n",
    "dates"
   ]
  },
  {
   "cell_type": "code",
   "execution_count": 489,
   "metadata": {},
   "outputs": [],
   "source": [
    "def build_graph_given_distribution(distribution, how_long_ago, dates_selector):\n",
    "    date_from = all_nasdaq_2000.index[-how_long_ago]\n",
    "    # print(\"Date from\", date_from)\n",
    "    price_from = avg_price.loc[date_from]\n",
    "    portfolio = pd.concat([distribution[\"Symbol\"], distribution.apply(lambda s: s[\"Cost\"] / price_from[s[\"Symbol\"]], axis=1)], axis=1, keys=[\"Symbol\", \"Stock count\"])\n",
    "    selected_dates = dates_selector(dates[-how_long_ago:])\n",
    "    portfolio_values = pd.Series(selected_dates.map(lambda x: compute_portfolio_for_date(x, portfolio)))\n",
    "    return selected_dates, portfolio_values"
   ]
  },
  {
   "cell_type": "code",
   "execution_count": 499,
   "metadata": {},
   "outputs": [
    {
     "data": {
      "text/plain": [
       "[<matplotlib.lines.Line2D at 0x193aaf52cd0>]"
      ]
     },
     "execution_count": 499,
     "metadata": {},
     "output_type": "execute_result"
    },
    {
     "data": {
      "image/png": "[encoded data removed]",
      "text/plain": [
       "<Figure size 432x288 with 1 Axes>"
      ]
     },
     "metadata": {
      "needs_background": "light"
     },
     "output_type": "display_data"
    }
   ],
   "source": [
    "dates_ndq_index, values_ndq_index = build_graph_given_distribution(nasdaq_index_costs, 20 * 365 * 5 // 7, lambda x: x[::30])\n",
    "plt.plot(dates_ndq_index, values_ndq_index)"
   ]
  },
  {
   "cell_type": "code",
   "execution_count": 491,
   "metadata": {},
   "outputs": [
    {
     "data": {
      "text/html": [
       "<div>\n",
       "<style scoped>\n",
       "    .dataframe tbody tr th:only-of-type {\n",
       "        vertical-align: middle;\n",
       "    }\n",
       "\n",
       "    .dataframe tbody tr th {\n",
       "        vertical-align: top;\n",
       "    }\n",
       "\n",
       "    .dataframe thead th {\n",
       "        text-align: right;\n",
       "    }\n",
       "</style>\n",
       "<table border=\"1\" class=\"dataframe\">\n",
       "  <thead>\n",
       "    <tr style=\"text-align: right;\">\n",
       "      <th></th>\n",
       "      <th>Symbol</th>\n",
       "      <th>Cost</th>\n",
       "    </tr>\n",
       "  </thead>\n",
       "  <tbody>\n",
       "    <tr>\n",
       "      <th>0</th>\n",
       "      <td>A</td>\n",
       "      <td>2.083333</td>\n",
       "    </tr>\n",
       "    <tr>\n",
       "      <th>20</th>\n",
       "      <td>AAPL</td>\n",
       "      <td>2.083333</td>\n",
       "    </tr>\n",
       "    <tr>\n",
       "      <th>30</th>\n",
       "      <td>ABCB</td>\n",
       "      <td>2.083333</td>\n",
       "    </tr>\n",
       "    <tr>\n",
       "      <th>117</th>\n",
       "      <td>ACU</td>\n",
       "      <td>2.083333</td>\n",
       "    </tr>\n",
       "    <tr>\n",
       "      <th>126</th>\n",
       "      <td>ADBE</td>\n",
       "      <td>2.083333</td>\n",
       "    </tr>\n",
       "    <tr>\n",
       "      <th>...</th>\n",
       "      <td>...</td>\n",
       "      <td>...</td>\n",
       "    </tr>\n",
       "    <tr>\n",
       "      <th>8315</th>\n",
       "      <td>YPF</td>\n",
       "      <td>2.083333</td>\n",
       "    </tr>\n",
       "    <tr>\n",
       "      <th>8328</th>\n",
       "      <td>ZBRA</td>\n",
       "      <td>2.083333</td>\n",
       "    </tr>\n",
       "    <tr>\n",
       "      <th>8338</th>\n",
       "      <td>ZEUS</td>\n",
       "      <td>2.083333</td>\n",
       "    </tr>\n",
       "    <tr>\n",
       "      <th>8361</th>\n",
       "      <td>ZNH</td>\n",
       "      <td>2.083333</td>\n",
       "    </tr>\n",
       "    <tr>\n",
       "      <th>8371</th>\n",
       "      <td>ZTR</td>\n",
       "      <td>2.083333</td>\n",
       "    </tr>\n",
       "  </tbody>\n",
       "</table>\n",
       "<p>480 rows × 2 columns</p>\n",
       "</div>"
      ],
      "text/plain": [
       "     Symbol      Cost\n",
       "0         A  2.083333\n",
       "20     AAPL  2.083333\n",
       "30     ABCB  2.083333\n",
       "117     ACU  2.083333\n",
       "126    ADBE  2.083333\n",
       "...     ...       ...\n",
       "8315    YPF  2.083333\n",
       "8328   ZBRA  2.083333\n",
       "8338   ZEUS  2.083333\n",
       "8361    ZNH  2.083333\n",
       "8371    ZTR  2.083333\n",
       "\n",
       "[480 rows x 2 columns]"
      ]
     },
     "execution_count": 491,
     "metadata": {},
     "output_type": "execute_result"
    }
   ],
   "source": [
    "uniform_distr = pd.concat([old_companies[\"Symbol\"], old_companies[\"Symbol\"].map(lambda _: budget / old_companies.shape[0])], keys=[\"Symbol\", \"Cost\"], axis=1)\n",
    "uniform_distr"
   ]
  },
  {
   "cell_type": "code",
   "execution_count": 498,
   "metadata": {},
   "outputs": [
    {
     "data": {
      "text/plain": [
       "[<matplotlib.lines.Line2D at 0x193ab054c10>]"
      ]
     },
     "execution_count": 498,
     "metadata": {},
     "output_type": "execute_result"
    },
    {
     "data": {
      "image/png": "[encoded data removed]",
      "text/plain": [
       "<Figure size 432x288 with 1 Axes>"
      ]
     },
     "metadata": {
      "needs_background": "light"
     },
     "output_type": "display_data"
    }
   ],
   "source": [
    "dates_uni_distr, values_uni_distr = build_graph_given_distribution(uniform_distr, 20 * 365 * 5 // 7, lambda x: x[::30])\n",
    "plt.plot(dates_uni_distr, values_uni_distr)"
   ]
  },
  {
   "cell_type": "markdown",
   "metadata": {},
   "source": [
    "### Growth of portfolio with proportional shares"
   ]
  },
  {
   "cell_type": "code",
   "execution_count": 502,
   "metadata": {},
   "outputs": [
    {
     "name": "stdout",
     "output_type": "stream",
     "text": [
      "Total growth: 9.372\n",
      "Annual growth: 1.251\n"
     ]
    }
   ],
   "source": [
    "total_growth = values_ndq_index[len(values_ndq_index) - 1] / values_ndq_index[0]\n",
    "print(\"Total growth:\", round(total_growth, 3))\n",
    "annual_growth = total_growth ** (1 / 10)\n",
    "print(\"Annual growth:\", round(annual_growth, 3))"
   ]
  },
  {
   "cell_type": "markdown",
   "metadata": {},
   "source": [
    "### Growth of portfolio with uniform shares"
   ]
  },
  {
   "cell_type": "code",
   "execution_count": 503,
   "metadata": {},
   "outputs": [
    {
     "name": "stdout",
     "output_type": "stream",
     "text": [
      "Total growth: 10.603\n",
      "Annual growth: 1.266\n"
     ]
    }
   ],
   "source": [
    "total_growth = values_uni_distr[len(values_uni_distr) - 1] / values_uni_distr[0]\n",
    "print(\"Total growth:\", round(total_growth, 3))\n",
    "annual_growth = total_growth ** (1 / 10)\n",
    "print(\"Annual growth:\", round(annual_growth, 3))"
   ]
  },
  {
   "cell_type": "markdown",
   "metadata": {},
   "source": [
    "### How much are we earning over a period of time?"
   ]
  },
  {
   "cell_type": "code",
   "execution_count": 545,
   "metadata": {},
   "outputs": [],
   "source": [
    "import seaborn as sns\n",
    "\n",
    "def plot_investing_growth_distribution(costs_array, window):\n",
    "    epoch = 19 * 365 * 5 // 7\n",
    "    growths = []\n",
    "    for costs in costs_array:\n",
    "        for i in range(0, epoch - window, 8):\n",
    "            dates_rr, values_rr = build_graph_given_distribution(costs, i + window + 1, lambda dates: pd.Series([dates[0], dates[window]]))\n",
    "            # print(\"From\", dates_rr[0], \"to\", dates_rr[1], \"grew from\", values_rr[0], \"to\", values_rr[1])\n",
    "            gr = (values_rr[1] / values_rr[0]) ** (1 / window * (365 * 5 / 7))\n",
    "            growths.append(gr)\n",
    "    growths.sort()\n",
    "    # q = len(growths) // 6\n",
    "    # growths = growths[q:-q]\n",
    "    return growths"
   ]
  },
  {
   "cell_type": "code",
   "execution_count": 546,
   "metadata": {},
   "outputs": [],
   "source": [
    "inflation = 1.03"
   ]
  },
  {
   "cell_type": "code",
   "execution_count": 622,
   "metadata": {},
   "outputs": [],
   "source": [
    "import scipy.stats.mstats as mstats"
   ]
  },
  {
   "cell_type": "markdown",
   "metadata": {},
   "source": [
    "### 8 years NASDAQ index"
   ]
  },
  {
   "cell_type": "code",
   "execution_count": 547,
   "metadata": {},
   "outputs": [
    {
     "data": {
      "text/plain": [
       "<seaborn.axisgrid.FacetGrid at 0x193b1b552b0>"
      ]
     },
     "execution_count": 547,
     "metadata": {},
     "output_type": "execute_result"
    },
    {
     "data": {
      "image/png": "[encoded data removed]",
      "text/plain": [
       "<Figure size 360x360 with 1 Axes>"
      ]
     },
     "metadata": {
      "needs_background": "light"
     },
     "output_type": "display_data"
    }
   ],
   "source": [
    "gr_nq_8 = plot_investing_growth_distribution([nasdaq_index_costs], 8 * 365 * 5 // 7)\n",
    "sns.displot(gr_nq_8)"
   ]
  },
  {
   "cell_type": "markdown",
   "metadata": {},
   "source": [
    "#### How likely to outperform saving in cash?"
   ]
  },
  {
   "cell_type": "code",
   "execution_count": 623,
   "metadata": {},
   "outputs": [
    {
     "name": "stdout",
     "output_type": "stream",
     "text": [
      "Probabily that saving in cash is outperformed: 0.958\n",
      "Average growth: 1.1021939854857328\n"
     ]
    }
   ],
   "source": [
    "prob_nq_8 = len(list(filter(lambda x: x > inflation, gr_nq_8))) / len(gr_nq_8)\n",
    "print(\"Probabily that saving in cash is outperformed:\", round(prob_nq_8, 3))\n",
    "print(\"Average growth:\", mstats.gmean(gr_nq_8))"
   ]
  },
  {
   "cell_type": "markdown",
   "metadata": {},
   "source": [
    "### 3 years NASDAQ index"
   ]
  },
  {
   "cell_type": "code",
   "execution_count": 549,
   "metadata": {},
   "outputs": [
    {
     "name": "stderr",
     "output_type": "stream",
     "text": [
      "C:\\Users\\goose\\AppData\\Local\\Temp/ipykernel_48428/3058413756.py:10: RuntimeWarning: invalid value encountered in double_scalars\n",
      "  gr = (values_rr[1] / values_rr[0]) ** (1 / window * (365 * 5 / 7))\n"
     ]
    },
    {
     "data": {
      "text/plain": [
       "<seaborn.axisgrid.FacetGrid at 0x193afb095b0>"
      ]
     },
     "execution_count": 549,
     "metadata": {},
     "output_type": "execute_result"
    },
    {
     "data": {
      "image/png": "[encoded data removed]",
      "text/plain": [
       "<Figure size 360x360 with 1 Axes>"
      ]
     },
     "metadata": {
      "needs_background": "light"
     },
     "output_type": "display_data"
    }
   ],
   "source": [
    "gr_nq_3 = plot_investing_growth_distribution([nasdaq_index_costs], 3 * 365 * 5 // 7)\n",
    "sns.displot(gr_nq_3)"
   ]
  },
  {
   "cell_type": "markdown",
   "metadata": {},
   "source": [
    "#### How likely to outperform saving in cash?"
   ]
  },
  {
   "cell_type": "code",
   "execution_count": 628,
   "metadata": {},
   "outputs": [
    {
     "name": "stdout",
     "output_type": "stream",
     "text": [
      "Probabily that saving in cash is outperformed: 0.789\n",
      "Average growth: 1.0990493361347755\n"
     ]
    }
   ],
   "source": [
    "import math\n",
    "prob_nq_3 = len(list(filter(lambda x: x > inflation, gr_nq_3))) / len(gr_nq_3)\n",
    "print(\"Probabily that saving in cash is outperformed:\", round(prob_nq_3, 3))\n",
    "gr_nq_3_no_nan = list(filter(lambda x: not math.isnan(x), gr_nq_3))\n",
    "print(\"Average growth:\", mstats.gmean(gr_nq_3_no_nan))"
   ]
  },
  {
   "cell_type": "markdown",
   "metadata": {},
   "source": [
    "#### 1/2 year NASDAQ index"
   ]
  },
  {
   "cell_type": "code",
   "execution_count": 551,
   "metadata": {},
   "outputs": [
    {
     "data": {
      "text/plain": [
       "<seaborn.axisgrid.FacetGrid at 0x193b1afb8e0>"
      ]
     },
     "execution_count": 551,
     "metadata": {},
     "output_type": "execute_result"
    },
    {
     "data": {
      "image/png": "[encoded data removed]",
      "text/plain": [
       "<Figure size 360x360 with 1 Axes>"
      ]
     },
     "metadata": {
      "needs_background": "light"
     },
     "output_type": "display_data"
    }
   ],
   "source": [
    "gr_nq_05 = plot_investing_growth_distribution([nasdaq_index_costs], 3 * 365 * 5 // 7 // 6)\n",
    "sns.displot(gr_nq_05)"
   ]
  },
  {
   "cell_type": "markdown",
   "metadata": {},
   "source": [
    "#### How likely to outperform saving in cash?"
   ]
  },
  {
   "cell_type": "code",
   "execution_count": 629,
   "metadata": {},
   "outputs": [
    {
     "name": "stdout",
     "output_type": "stream",
     "text": [
      "Probabily that saving in cash is outperformed: 0.668\n",
      "Average growth: 1.1296892183620093\n"
     ]
    }
   ],
   "source": [
    "prob_nq_05 = len(list(filter(lambda x: x > inflation, gr_nq_05))) / len(gr_nq_05)\n",
    "print(\"Probabily that saving in cash is outperformed:\", round(prob_nq_05, 3))\n",
    "gr_nq_05_no_nan = list(filter(lambda x: not math.isnan(x), gr_nq_05))\n",
    "print(\"Average growth:\", mstats.gmean(gr_nq_05_no_nan))"
   ]
  },
  {
   "cell_type": "markdown",
   "metadata": {},
   "source": [
    "### 8 years uniform index"
   ]
  },
  {
   "cell_type": "code",
   "execution_count": 553,
   "metadata": {},
   "outputs": [
    {
     "data": {
      "text/plain": [
       "<seaborn.axisgrid.FacetGrid at 0x193b340ef70>"
      ]
     },
     "execution_count": 553,
     "metadata": {},
     "output_type": "execute_result"
    },
    {
     "data": {
      "image/png": "[encoded data removed]",
      "text/plain": [
       "<Figure size 360x360 with 1 Axes>"
      ]
     },
     "metadata": {
      "needs_background": "light"
     },
     "output_type": "display_data"
    }
   ],
   "source": [
    "gr_up_8 = plot_investing_growth_distribution([uniform_distr], 8 * 365 * 5 // 7)\n",
    "sns.displot(gr_up_8)"
   ]
  },
  {
   "cell_type": "markdown",
   "metadata": {},
   "source": [
    "#### How likely to outperform saving in cash?"
   ]
  },
  {
   "cell_type": "code",
   "execution_count": 631,
   "metadata": {},
   "outputs": [
    {
     "name": "stdout",
     "output_type": "stream",
     "text": [
      "Probabily that saving in cash is outperformed: 1.0\n",
      "Average growth: 1.1077739111442202\n"
     ]
    }
   ],
   "source": [
    "prob_up_8 = len(list(filter(lambda x: x > inflation, gr_up_8))) / len(gr_up_8)\n",
    "print(\"Probabily that saving in cash is outperformed:\", round(prob_up_8, 3))\n",
    "gr_up_8_no_nan = list(filter(lambda x: not math.isnan(x), gr_up_8))\n",
    "print(\"Average growth:\", mstats.gmean(gr_up_8_no_nan))"
   ]
  },
  {
   "cell_type": "markdown",
   "metadata": {},
   "source": [
    "### 3 years uniform index"
   ]
  },
  {
   "cell_type": "code",
   "execution_count": 555,
   "metadata": {},
   "outputs": [
    {
     "name": "stderr",
     "output_type": "stream",
     "text": [
      "C:\\Users\\goose\\AppData\\Local\\Temp/ipykernel_48428/3058413756.py:10: RuntimeWarning: invalid value encountered in double_scalars\n",
      "  gr = (values_rr[1] / values_rr[0]) ** (1 / window * (365 * 5 / 7))\n"
     ]
    },
    {
     "data": {
      "text/plain": [
       "<seaborn.axisgrid.FacetGrid at 0x193b19d26d0>"
      ]
     },
     "execution_count": 555,
     "metadata": {},
     "output_type": "execute_result"
    },
    {
     "data": {
      "image/png": "[encoded data removed]",
      "text/plain": [
       "<Figure size 360x360 with 1 Axes>"
      ]
     },
     "metadata": {
      "needs_background": "light"
     },
     "output_type": "display_data"
    }
   ],
   "source": [
    "gr_up_3 = plot_investing_growth_distribution([uniform_distr], 3 * 365 * 5 // 7)\n",
    "sns.displot(gr_up_3)"
   ]
  },
  {
   "cell_type": "markdown",
   "metadata": {},
   "source": [
    "#### How likely to outperform saving in cash?"
   ]
  },
  {
   "cell_type": "code",
   "execution_count": 632,
   "metadata": {},
   "outputs": [
    {
     "name": "stdout",
     "output_type": "stream",
     "text": [
      "Probabily that saving in cash is outperformed: 0.837\n",
      "Average growth: 1.1037990936728446\n"
     ]
    }
   ],
   "source": [
    "prob_up_3 = len(list(filter(lambda x: x > inflation, gr_up_3))) / len(gr_up_3)\n",
    "print(\"Probabily that saving in cash is outperformed:\", round(prob_up_3, 3))\n",
    "gr_up_3_no_nan = list(filter(lambda x: not math.isnan(x), gr_up_3))\n",
    "print(\"Average growth:\", mstats.gmean(gr_up_3_no_nan))"
   ]
  },
  {
   "cell_type": "markdown",
   "metadata": {},
   "source": [
    "### 1/2 year uniform index"
   ]
  },
  {
   "cell_type": "code",
   "execution_count": 557,
   "metadata": {},
   "outputs": [
    {
     "data": {
      "text/html": [
       "<div>\n",
       "<style scoped>\n",
       "    .dataframe tbody tr th:only-of-type {\n",
       "        vertical-align: middle;\n",
       "    }\n",
       "\n",
       "    .dataframe tbody tr th {\n",
       "        vertical-align: top;\n",
       "    }\n",
       "\n",
       "    .dataframe thead th {\n",
       "        text-align: right;\n",
       "    }\n",
       "</style>\n",
       "<table border=\"1\" class=\"dataframe\">\n",
       "  <thead>\n",
       "    <tr style=\"text-align: right;\">\n",
       "      <th></th>\n",
       "      <th>Symbol</th>\n",
       "      <th>Cost</th>\n",
       "    </tr>\n",
       "  </thead>\n",
       "  <tbody>\n",
       "    <tr>\n",
       "      <th>0</th>\n",
       "      <td>A</td>\n",
       "      <td>2.083333</td>\n",
       "    </tr>\n",
       "    <tr>\n",
       "      <th>20</th>\n",
       "      <td>AAPL</td>\n",
       "      <td>2.083333</td>\n",
       "    </tr>\n",
       "    <tr>\n",
       "      <th>30</th>\n",
       "      <td>ABCB</td>\n",
       "      <td>2.083333</td>\n",
       "    </tr>\n",
       "    <tr>\n",
       "      <th>117</th>\n",
       "      <td>ACU</td>\n",
       "      <td>2.083333</td>\n",
       "    </tr>\n",
       "    <tr>\n",
       "      <th>126</th>\n",
       "      <td>ADBE</td>\n",
       "      <td>2.083333</td>\n",
       "    </tr>\n",
       "    <tr>\n",
       "      <th>...</th>\n",
       "      <td>...</td>\n",
       "      <td>...</td>\n",
       "    </tr>\n",
       "    <tr>\n",
       "      <th>8315</th>\n",
       "      <td>YPF</td>\n",
       "      <td>2.083333</td>\n",
       "    </tr>\n",
       "    <tr>\n",
       "      <th>8328</th>\n",
       "      <td>ZBRA</td>\n",
       "      <td>2.083333</td>\n",
       "    </tr>\n",
       "    <tr>\n",
       "      <th>8338</th>\n",
       "      <td>ZEUS</td>\n",
       "      <td>2.083333</td>\n",
       "    </tr>\n",
       "    <tr>\n",
       "      <th>8361</th>\n",
       "      <td>ZNH</td>\n",
       "      <td>2.083333</td>\n",
       "    </tr>\n",
       "    <tr>\n",
       "      <th>8371</th>\n",
       "      <td>ZTR</td>\n",
       "      <td>2.083333</td>\n",
       "    </tr>\n",
       "  </tbody>\n",
       "</table>\n",
       "<p>480 rows × 2 columns</p>\n",
       "</div>"
      ],
      "text/plain": [
       "     Symbol      Cost\n",
       "0         A  2.083333\n",
       "20     AAPL  2.083333\n",
       "30     ABCB  2.083333\n",
       "117     ACU  2.083333\n",
       "126    ADBE  2.083333\n",
       "...     ...       ...\n",
       "8315    YPF  2.083333\n",
       "8328   ZBRA  2.083333\n",
       "8338   ZEUS  2.083333\n",
       "8361    ZNH  2.083333\n",
       "8371    ZTR  2.083333\n",
       "\n",
       "[480 rows x 2 columns]"
      ]
     },
     "execution_count": 557,
     "metadata": {},
     "output_type": "execute_result"
    }
   ],
   "source": [
    "uniform_distr"
   ]
  },
  {
   "cell_type": "code",
   "execution_count": 633,
   "metadata": {},
   "outputs": [
    {
     "name": "stdout",
     "output_type": "stream",
     "text": [
      "Average growth: 1.1411038679049517\n"
     ]
    },
    {
     "data": {
      "image/png": "[encoded data removed]",
      "text/plain": [
       "<Figure size 360x360 with 1 Axes>"
      ]
     },
     "metadata": {
      "needs_background": "light"
     },
     "output_type": "display_data"
    }
   ],
   "source": [
    "gr_up_05 = plot_investing_growth_distribution([uniform_distr], 3 * 365 * 5 // 7 // 6)\n",
    "sns.displot(gr_up_05)"
   ]
  },
  {
   "cell_type": "markdown",
   "metadata": {},
   "source": [
    "#### How likely to outperform saving in cash?"
   ]
  },
  {
   "cell_type": "code",
   "execution_count": 634,
   "metadata": {},
   "outputs": [
    {
     "name": "stdout",
     "output_type": "stream",
     "text": [
      "Probabily that saving in cash is outperformed: 0.692\n",
      "Average growth: 1.1411038679049517\n"
     ]
    }
   ],
   "source": [
    "prob_up_05 = len(list(filter(lambda x: x > inflation, gr_up_05))) / len(gr_up_05)\n",
    "print(\"Probabily that saving in cash is outperformed:\", round(prob_up_05, 3))\n",
    "gr_up_05_no_nan = list(filter(lambda x: not math.isnan(x), gr_up_05))\n",
    "print(\"Average growth:\", mstats.gmean(gr_up_05_no_nan))"
   ]
  },
  {
   "cell_type": "markdown",
   "metadata": {},
   "source": [
    "## Uniform Partial index\n",
    "Take N random companies and invest the same amount of money into them"
   ]
  },
  {
   "cell_type": "code",
   "execution_count": 638,
   "metadata": {},
   "outputs": [
    {
     "data": {
      "text/html": [
       "<div>\n",
       "<style scoped>\n",
       "    .dataframe tbody tr th:only-of-type {\n",
       "        vertical-align: middle;\n",
       "    }\n",
       "\n",
       "    .dataframe tbody tr th {\n",
       "        vertical-align: top;\n",
       "    }\n",
       "\n",
       "    .dataframe thead th {\n",
       "        text-align: right;\n",
       "    }\n",
       "</style>\n",
       "<table border=\"1\" class=\"dataframe\">\n",
       "  <thead>\n",
       "    <tr style=\"text-align: right;\">\n",
       "      <th></th>\n",
       "      <th>Symbol</th>\n",
       "      <th>Cost</th>\n",
       "    </tr>\n",
       "  </thead>\n",
       "  <tbody>\n",
       "    <tr>\n",
       "      <th>4286</th>\n",
       "      <td>KEP</td>\n",
       "      <td>50.0</td>\n",
       "    </tr>\n",
       "    <tr>\n",
       "      <th>30</th>\n",
       "      <td>ABCB</td>\n",
       "      <td>50.0</td>\n",
       "    </tr>\n",
       "    <tr>\n",
       "      <th>117</th>\n",
       "      <td>ACU</td>\n",
       "      <td>50.0</td>\n",
       "    </tr>\n",
       "    <tr>\n",
       "      <th>1802</th>\n",
       "      <td>CNX</td>\n",
       "      <td>50.0</td>\n",
       "    </tr>\n",
       "    <tr>\n",
       "      <th>6940</th>\n",
       "      <td>SLGN</td>\n",
       "      <td>50.0</td>\n",
       "    </tr>\n",
       "    <tr>\n",
       "      <th>3728</th>\n",
       "      <td>HQH</td>\n",
       "      <td>50.0</td>\n",
       "    </tr>\n",
       "    <tr>\n",
       "      <th>2985</th>\n",
       "      <td>FR</td>\n",
       "      <td>50.0</td>\n",
       "    </tr>\n",
       "    <tr>\n",
       "      <th>2075</th>\n",
       "      <td>CXH</td>\n",
       "      <td>50.0</td>\n",
       "    </tr>\n",
       "    <tr>\n",
       "      <th>1717</th>\n",
       "      <td>CLWT</td>\n",
       "      <td>50.0</td>\n",
       "    </tr>\n",
       "    <tr>\n",
       "      <th>413</th>\n",
       "      <td>AMAT</td>\n",
       "      <td>50.0</td>\n",
       "    </tr>\n",
       "    <tr>\n",
       "      <th>8157</th>\n",
       "      <td>WLFC</td>\n",
       "      <td>50.0</td>\n",
       "    </tr>\n",
       "    <tr>\n",
       "      <th>4963</th>\n",
       "      <td>MMT</td>\n",
       "      <td>50.0</td>\n",
       "    </tr>\n",
       "    <tr>\n",
       "      <th>1375</th>\n",
       "      <td>CACC</td>\n",
       "      <td>50.0</td>\n",
       "    </tr>\n",
       "    <tr>\n",
       "      <th>5384</th>\n",
       "      <td>NPV</td>\n",
       "      <td>50.0</td>\n",
       "    </tr>\n",
       "    <tr>\n",
       "      <th>4424</th>\n",
       "      <td>LAMR</td>\n",
       "      <td>50.0</td>\n",
       "    </tr>\n",
       "    <tr>\n",
       "      <th>8074</th>\n",
       "      <td>WAT</td>\n",
       "      <td>50.0</td>\n",
       "    </tr>\n",
       "    <tr>\n",
       "      <th>4869</th>\n",
       "      <td>MGF</td>\n",
       "      <td>50.0</td>\n",
       "    </tr>\n",
       "    <tr>\n",
       "      <th>6081</th>\n",
       "      <td>POWI</td>\n",
       "      <td>50.0</td>\n",
       "    </tr>\n",
       "    <tr>\n",
       "      <th>6354</th>\n",
       "      <td>RCII</td>\n",
       "      <td>50.0</td>\n",
       "    </tr>\n",
       "    <tr>\n",
       "      <th>3135</th>\n",
       "      <td>GAIA</td>\n",
       "      <td>50.0</td>\n",
       "    </tr>\n",
       "  </tbody>\n",
       "</table>\n",
       "</div>"
      ],
      "text/plain": [
       "     Symbol  Cost\n",
       "4286    KEP  50.0\n",
       "30     ABCB  50.0\n",
       "117     ACU  50.0\n",
       "1802    CNX  50.0\n",
       "6940   SLGN  50.0\n",
       "3728    HQH  50.0\n",
       "2985     FR  50.0\n",
       "2075    CXH  50.0\n",
       "1717   CLWT  50.0\n",
       "413    AMAT  50.0\n",
       "8157   WLFC  50.0\n",
       "4963    MMT  50.0\n",
       "1375   CACC  50.0\n",
       "5384    NPV  50.0\n",
       "4424   LAMR  50.0\n",
       "8074    WAT  50.0\n",
       "4869    MGF  50.0\n",
       "6081   POWI  50.0\n",
       "6354   RCII  50.0\n",
       "3135   GAIA  50.0"
      ]
     },
     "execution_count": 638,
     "metadata": {},
     "output_type": "execute_result"
    }
   ],
   "source": [
    "N = 20\n",
    "uniform_distr_partial = pd.concat([old_companies[\"Symbol\"], old_companies[\"Symbol\"].map(lambda _: budget / N)], keys=[\"Symbol\", \"Cost\"], axis=1)\n",
    "uniform_distr_partial.sample(n=N)"
   ]
  },
  {
   "cell_type": "code",
   "execution_count": 639,
   "metadata": {},
   "outputs": [],
   "source": [
    "uniform_distr_partial_array = [uniform_distr_partial.sample(n=N) for i in range(100)]"
   ]
  },
  {
   "cell_type": "markdown",
   "metadata": {},
   "source": [
    "### 8 year Uniform partial index"
   ]
  },
  {
   "cell_type": "code",
   "execution_count": 640,
   "metadata": {},
   "outputs": [
    {
     "data": {
      "text/plain": [
       "<seaborn.axisgrid.FacetGrid at 0x193b3ba0c10>"
      ]
     },
     "execution_count": 640,
     "metadata": {},
     "output_type": "execute_result"
    },
    {
     "data": {
      "image/png": "[encoded data removed]",
      "text/plain": [
       "<Figure size 360x360 with 1 Axes>"
      ]
     },
     "metadata": {
      "needs_background": "light"
     },
     "output_type": "display_data"
    }
   ],
   "source": [
    "growths_uni_partial_8 = plot_investing_growth_distribution(uniform_distr_partial_array, 8 * 365 * 5 // 7)\n",
    "sns.displot(growths_uni_partial_8)"
   ]
  },
  {
   "cell_type": "markdown",
   "metadata": {},
   "source": [
    "#### How likely to outperform saving in cash?"
   ]
  },
  {
   "cell_type": "code",
   "execution_count": 641,
   "metadata": {},
   "outputs": [
    {
     "name": "stdout",
     "output_type": "stream",
     "text": [
      "Probabily that saving in cash is outperformed: 0.973\n",
      "Average growth: 1.1024118089392492\n"
     ]
    }
   ],
   "source": [
    "prob_8 = len(list(filter(lambda x: x > inflation, growths_uni_partial_8))) / len(growths_uni_partial_8)\n",
    "print(\"Probabily that saving in cash is outperformed:\", round(prob_8, 3))\n",
    "growths_uni_partial_8_no_nan = list(filter(lambda x: not math.isnan(x), growths_uni_partial_8))\n",
    "print(\"Average growth:\", mstats.gmean(growths_uni_partial_8_no_nan))"
   ]
  },
  {
   "cell_type": "markdown",
   "metadata": {},
   "source": [
    "### 3 year Uniform partial index"
   ]
  },
  {
   "cell_type": "code",
   "execution_count": 642,
   "metadata": {},
   "outputs": [
    {
     "name": "stderr",
     "output_type": "stream",
     "text": [
      "C:\\Users\\goose\\AppData\\Local\\Temp/ipykernel_48428/3058413756.py:10: RuntimeWarning: invalid value encountered in double_scalars\n",
      "  gr = (values_rr[1] / values_rr[0]) ** (1 / window * (365 * 5 / 7))\n"
     ]
    },
    {
     "data": {
      "text/plain": [
       "<seaborn.axisgrid.FacetGrid at 0x193c180f430>"
      ]
     },
     "execution_count": 642,
     "metadata": {},
     "output_type": "execute_result"
    },
    {
     "data": {
      "image/png": "[encoded data removed]",
      "text/plain": [
       "<Figure size 360x360 with 1 Axes>"
      ]
     },
     "metadata": {
      "needs_background": "light"
     },
     "output_type": "display_data"
    }
   ],
   "source": [
    "growths_uni_partial_3 = plot_investing_growth_distribution(uniform_distr_partial_array, 3 * 365 * 5 // 7)\n",
    "sns.displot(growths_uni_partial_3)"
   ]
  },
  {
   "cell_type": "markdown",
   "metadata": {},
   "source": [
    "#### How likely to outperform saving in cash?"
   ]
  },
  {
   "cell_type": "code",
   "execution_count": 643,
   "metadata": {},
   "outputs": [
    {
     "name": "stdout",
     "output_type": "stream",
     "text": [
      "Probabily that saving in cash is outperformed: 0.787\n",
      "Average growth: 1.097938419107811\n"
     ]
    }
   ],
   "source": [
    "prob_3 = len(list(filter(lambda x: x > inflation, growths_uni_partial_3))) / len(growths_uni_partial_3)\n",
    "print(\"Probabily that saving in cash is outperformed:\", round(prob_3, 3))\n",
    "growths_uni_partial_3_no_nan = list(filter(lambda x: not math.isnan(x), growths_uni_partial_3))\n",
    "print(\"Average growth:\", mstats.gmean(growths_uni_partial_3_no_nan))"
   ]
  },
  {
   "cell_type": "markdown",
   "metadata": {},
   "source": [
    "### 1/2 years Uniform partial index"
   ]
  },
  {
   "cell_type": "code",
   "execution_count": 644,
   "metadata": {},
   "outputs": [
    {
     "data": {
      "text/plain": [
       "<seaborn.axisgrid.FacetGrid at 0x193b55111c0>"
      ]
     },
     "execution_count": 644,
     "metadata": {},
     "output_type": "execute_result"
    },
    {
     "data": {
      "image/png": "[encoded data removed]",
      "text/plain": [
       "<Figure size 360x360 with 1 Axes>"
      ]
     },
     "metadata": {
      "needs_background": "light"
     },
     "output_type": "display_data"
    }
   ],
   "source": [
    "growths_uni_partial_05 = plot_investing_growth_distribution(uniform_distr_partial_array, 3 * 365 * 5 // 7 // 6)\n",
    "sns.displot(growths_uni_partial_05)"
   ]
  },
  {
   "cell_type": "markdown",
   "metadata": {},
   "source": [
    "#### How likely to outperform saving in cash?"
   ]
  },
  {
   "cell_type": "code",
   "execution_count": 645,
   "metadata": {},
   "outputs": [
    {
     "name": "stdout",
     "output_type": "stream",
     "text": [
      "Probabily that saving in cash is outperformed: 0.66\n",
      "Average growth: 1.1343710590764124\n"
     ]
    }
   ],
   "source": [
    "prob_05 = len(list(filter(lambda x: x > inflation, growths_uni_partial_05))) / len(growths_uni_partial_05)\n",
    "print(\"Probabily that saving in cash is outperformed:\", round(prob_05, 3))\n",
    "growths_uni_partial_05_no_nan = list(filter(lambda x: not math.isnan(x), growths_uni_partial_05))\n",
    "print(\"Average growth:\", mstats.gmean(growths_uni_partial_05_no_nan))"
   ]
  },
  {
   "cell_type": "markdown",
   "metadata": {},
   "source": [
    "## Conclusion\n",
    "\n",
    "If for some reason you cannot or don't want to buy ETFs, and want individual shares, but more or less reliable, you can start by investing into 5-10 *random* companies with the same amount of money.\n",
    "\n",
    "### Summary\n",
    "\n",
    "| Strategy    | Rel. 1/2 year | Rel. 3 years | Rel. 8 years | Growth  |\n",
    "|:-----------:|:---------|:--------|:--------|:---------|\n",
    "| Nq 400      | .668     | .789    | .958    | .10-.13  |\n",
    "| U 400       | .692     | .837    | 1.0     | .10-.14  |\n",
    "| UP 20       | .679     | .799    | .965    | .10-.13  |\n",
    "| UP 5        | .617     | .716    | .826    | .09-.13  |\n",
    "\n",
    "#### Strategy\n",
    "\n",
    "- Nq - propotional (Nasdaq index)\n",
    "- U - uniform \n",
    "- UP - Uniform partial (the number of stocks specified)\n",
    "\n",
    "#### Reliability\n",
    "\n",
    "The probability that the given strategy will result in portfolio worth less in given number of years than it was with the inflation adjusted.\n",
    "\n",
    "#### Growth\n",
    "\n",
    "Average annual growth\n"
   ]
  }
 ],
 "metadata": {
  "interpreter": {
   "hash": "fd348518515a2e7c1e17d3c70bbbbe69b24d12d69ed708f88824b35e1e9005ba"
  },
  "kernelspec": {
   "display_name": "Python 3.9.6 64-bit",
   "language": "python",
   "name": "python3"
  },
  "language_info": {
   "codemirror_mode": {
    "name": "ipython",
    "version": 3
   },
   "file_extension": ".py",
   "mimetype": "text/x-python",
   "name": "python",
   "nbconvert_exporter": "python",
   "pygments_lexer": "ipython3",
   "version": "3.9.6"
  },
  "orig_nbformat": 4
 },
 "nbformat": 4,
 "nbformat_minor": 2
}
